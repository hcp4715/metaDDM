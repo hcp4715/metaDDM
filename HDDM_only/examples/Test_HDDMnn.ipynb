{
 "cells": [
  {
   "cell_type": "code",
   "execution_count": 1,
   "id": "c37ba0b2",
   "metadata": {},
   "outputs": [
    {
     "name": "stdout",
     "output_type": "stream",
     "text": [
      "PyTorch's version is  1.7.0\n"
     ]
    }
   ],
   "source": [
    "import hddm\n",
    "\n",
    "import torch\n",
    "print(\"PyTorch's version is \", torch.__version__)"
   ]
  },
  {
   "cell_type": "code",
   "execution_count": 2,
   "id": "051252ac",
   "metadata": {},
   "outputs": [
    {
     "data": {
      "text/plain": [
       "'/opt/conda/lib/python3.8/site-packages/hddm'"
      ]
     },
     "execution_count": 2,
     "metadata": {},
     "output_type": "execute_result"
    }
   ],
   "source": [
    "hddm.__path__[0]"
   ]
  },
  {
   "cell_type": "code",
   "execution_count": 3,
   "id": "16322cae",
   "metadata": {},
   "outputs": [],
   "source": [
    "# test the PyTorch modules\n",
    "import torch\n",
    "import torch.nn as nn\n",
    "import uuid"
   ]
  },
  {
   "cell_type": "code",
   "execution_count": 4,
   "id": "033f6e1c",
   "metadata": {
    "scrolled": true
   },
   "outputs": [
    {
     "data": {
      "text/plain": [
       "['test',\n",
       " 'ddm',\n",
       " 'ddm_vanilla',\n",
       " 'angle',\n",
       " 'weibull',\n",
       " 'levy',\n",
       " 'full_ddm',\n",
       " 'full_ddm_vanilla',\n",
       " 'ornstein',\n",
       " 'ddm_sdv',\n",
       " 'ddm_par2',\n",
       " 'ddm_par2_no_bias',\n",
       " 'ddm_par2_angle_no_bias',\n",
       " 'ddm_par2_weibull_no_bias',\n",
       " 'ddm_seq2',\n",
       " 'ddm_seq2_no_bias',\n",
       " 'ddm_seq2_angle_no_bias',\n",
       " 'ddm_seq2_weibull_no_bias',\n",
       " 'ddm_mic2_adj',\n",
       " 'ddm_mic2_adj_no_bias',\n",
       " 'ddm_mic2_adj_angle_no_bias',\n",
       " 'ddm_mic2_adj_weibull_no_bias',\n",
       " 'race_no_bias_3',\n",
       " 'race_no_bias_angle_3',\n",
       " 'race_no_bias_4',\n",
       " 'race_no_bias_angle_4',\n",
       " 'lca_no_bias_3',\n",
       " 'lca_no_bias_angle_3',\n",
       " 'lca_no_bias_4',\n",
       " 'lca_no_bias_angle_4',\n",
       " 'weibull_cdf',\n",
       " 'full_ddm2']"
      ]
     },
     "execution_count": 4,
     "metadata": {},
     "output_type": "execute_result"
    }
   ],
   "source": [
    "# List all available models\n",
    "list(hddm.model_config.model_config.keys())"
   ]
  },
  {
   "cell_type": "markdown",
   "id": "f1adacc4",
   "metadata": {},
   "source": [
    "## Try the short example\n",
    "\n",
    "https://hddm.readthedocs.io/en/latest/lan_new_classes.html"
   ]
  },
  {
   "cell_type": "code",
   "execution_count": 5,
   "id": "3227517f",
   "metadata": {},
   "outputs": [
    {
     "name": "stdout",
     "output_type": "stream",
     "text": [
      "Setting priors uninformative (LANs only work with uninformative priors for now)\n",
      "Includes supplied:  ['z', 'theta']\n"
     ]
    }
   ],
   "source": [
    "model = 'angle'\n",
    "cavanagh_data = hddm.load_csv(hddm.__path__[0] + '/examples/cavanagh_theta_nn.csv')\n",
    "model_ = hddm.HDDMnn(cavanagh_data,\n",
    "                     model = model,\n",
    "                     include = hddm.model_config.model_config[model]['hddm_include'],\n",
    "                     is_group_model = False)"
   ]
  },
  {
   "cell_type": "code",
   "execution_count": 6,
   "id": "9e921b6e",
   "metadata": {},
   "outputs": [
    {
     "data": {
      "text/plain": [
       "['z', 'theta']"
      ]
     },
     "execution_count": 6,
     "metadata": {},
     "output_type": "execute_result"
    }
   ],
   "source": [
    "hddm.model_config.model_config[model]['hddm_include']"
   ]
  },
  {
   "cell_type": "code",
   "execution_count": 7,
   "id": "f25d9620",
   "metadata": {},
   "outputs": [
    {
     "name": "stdout",
     "output_type": "stream",
     "text": [
      " [-----------------100%-----------------] 1000 of 1000 complete in 60.7 sec"
     ]
    },
    {
     "data": {
      "text/plain": [
       "<pymc.MCMC.MCMC at 0x7fa0ab359d30>"
      ]
     },
     "execution_count": 7,
     "metadata": {},
     "output_type": "execute_result"
    }
   ],
   "source": [
    "model_.sample(1000, burn = 200)"
   ]
  },
  {
   "cell_type": "code",
   "execution_count": 8,
   "id": "30ecb075",
   "metadata": {
    "scrolled": true
   },
   "outputs": [
    {
     "data": {
      "text/html": [
       "<div>\n",
       "<style scoped>\n",
       "    .dataframe tbody tr th:only-of-type {\n",
       "        vertical-align: middle;\n",
       "    }\n",
       "\n",
       "    .dataframe tbody tr th {\n",
       "        vertical-align: top;\n",
       "    }\n",
       "\n",
       "    .dataframe thead th {\n",
       "        text-align: right;\n",
       "    }\n",
       "</style>\n",
       "<table border=\"1\" class=\"dataframe\">\n",
       "  <thead>\n",
       "    <tr style=\"text-align: right;\">\n",
       "      <th></th>\n",
       "      <th>v</th>\n",
       "      <th>a</th>\n",
       "      <th>z_trans</th>\n",
       "      <th>t</th>\n",
       "      <th>theta</th>\n",
       "    </tr>\n",
       "  </thead>\n",
       "  <tbody>\n",
       "    <tr>\n",
       "      <th>0</th>\n",
       "      <td>0.400441</td>\n",
       "      <td>1.344542</td>\n",
       "      <td>-0.027193</td>\n",
       "      <td>0.270964</td>\n",
       "      <td>0.258283</td>\n",
       "    </tr>\n",
       "    <tr>\n",
       "      <th>1</th>\n",
       "      <td>0.398584</td>\n",
       "      <td>1.350864</td>\n",
       "      <td>-0.027241</td>\n",
       "      <td>0.269157</td>\n",
       "      <td>0.263555</td>\n",
       "    </tr>\n",
       "    <tr>\n",
       "      <th>2</th>\n",
       "      <td>0.376262</td>\n",
       "      <td>1.355867</td>\n",
       "      <td>0.024678</td>\n",
       "      <td>0.263974</td>\n",
       "      <td>0.263815</td>\n",
       "    </tr>\n",
       "    <tr>\n",
       "      <th>3</th>\n",
       "      <td>0.352032</td>\n",
       "      <td>1.363103</td>\n",
       "      <td>0.036610</td>\n",
       "      <td>0.265184</td>\n",
       "      <td>0.256666</td>\n",
       "    </tr>\n",
       "    <tr>\n",
       "      <th>4</th>\n",
       "      <td>0.371247</td>\n",
       "      <td>1.362027</td>\n",
       "      <td>0.006836</td>\n",
       "      <td>0.265836</td>\n",
       "      <td>0.264722</td>\n",
       "    </tr>\n",
       "    <tr>\n",
       "      <th>...</th>\n",
       "      <td>...</td>\n",
       "      <td>...</td>\n",
       "      <td>...</td>\n",
       "      <td>...</td>\n",
       "      <td>...</td>\n",
       "    </tr>\n",
       "    <tr>\n",
       "      <th>795</th>\n",
       "      <td>0.355288</td>\n",
       "      <td>1.335846</td>\n",
       "      <td>0.069494</td>\n",
       "      <td>0.277783</td>\n",
       "      <td>0.259743</td>\n",
       "    </tr>\n",
       "    <tr>\n",
       "      <th>796</th>\n",
       "      <td>0.368691</td>\n",
       "      <td>1.328180</td>\n",
       "      <td>0.047114</td>\n",
       "      <td>0.270465</td>\n",
       "      <td>0.254795</td>\n",
       "    </tr>\n",
       "    <tr>\n",
       "      <th>797</th>\n",
       "      <td>0.364681</td>\n",
       "      <td>1.325538</td>\n",
       "      <td>0.060011</td>\n",
       "      <td>0.279297</td>\n",
       "      <td>0.254101</td>\n",
       "    </tr>\n",
       "    <tr>\n",
       "      <th>798</th>\n",
       "      <td>0.353135</td>\n",
       "      <td>1.341692</td>\n",
       "      <td>0.062691</td>\n",
       "      <td>0.285746</td>\n",
       "      <td>0.266108</td>\n",
       "    </tr>\n",
       "    <tr>\n",
       "      <th>799</th>\n",
       "      <td>0.346515</td>\n",
       "      <td>1.335210</td>\n",
       "      <td>0.159462</td>\n",
       "      <td>0.269712</td>\n",
       "      <td>0.248105</td>\n",
       "    </tr>\n",
       "  </tbody>\n",
       "</table>\n",
       "<p>800 rows × 5 columns</p>\n",
       "</div>"
      ],
      "text/plain": [
       "            v         a   z_trans         t     theta\n",
       "0    0.400441  1.344542 -0.027193  0.270964  0.258283\n",
       "1    0.398584  1.350864 -0.027241  0.269157  0.263555\n",
       "2    0.376262  1.355867  0.024678  0.263974  0.263815\n",
       "3    0.352032  1.363103  0.036610  0.265184  0.256666\n",
       "4    0.371247  1.362027  0.006836  0.265836  0.264722\n",
       "..        ...       ...       ...       ...       ...\n",
       "795  0.355288  1.335846  0.069494  0.277783  0.259743\n",
       "796  0.368691  1.328180  0.047114  0.270465  0.254795\n",
       "797  0.364681  1.325538  0.060011  0.279297  0.254101\n",
       "798  0.353135  1.341692  0.062691  0.285746  0.266108\n",
       "799  0.346515  1.335210  0.159462  0.269712  0.248105\n",
       "\n",
       "[800 rows x 5 columns]"
      ]
     },
     "execution_count": 8,
     "metadata": {},
     "output_type": "execute_result"
    }
   ],
   "source": [
    "model_.get_traces()"
   ]
  },
  {
   "cell_type": "code",
   "execution_count": 9,
   "id": "413a2113",
   "metadata": {},
   "outputs": [
    {
     "data": {
      "text/html": [
       "<div>\n",
       "<style scoped>\n",
       "    .dataframe tbody tr th:only-of-type {\n",
       "        vertical-align: middle;\n",
       "    }\n",
       "\n",
       "    .dataframe tbody tr th {\n",
       "        vertical-align: top;\n",
       "    }\n",
       "\n",
       "    .dataframe thead th {\n",
       "        text-align: right;\n",
       "    }\n",
       "</style>\n",
       "<table border=\"1\" class=\"dataframe\">\n",
       "  <thead>\n",
       "    <tr style=\"text-align: right;\">\n",
       "      <th></th>\n",
       "      <th>mean</th>\n",
       "      <th>std</th>\n",
       "      <th>2.5q</th>\n",
       "      <th>25q</th>\n",
       "      <th>50q</th>\n",
       "      <th>75q</th>\n",
       "      <th>97.5q</th>\n",
       "      <th>mc err</th>\n",
       "    </tr>\n",
       "  </thead>\n",
       "  <tbody>\n",
       "    <tr>\n",
       "      <th>v</th>\n",
       "      <td>0.367973</td>\n",
       "      <td>0.0224734</td>\n",
       "      <td>0.3238</td>\n",
       "      <td>0.353135</td>\n",
       "      <td>0.367793</td>\n",
       "      <td>0.383425</td>\n",
       "      <td>0.413111</td>\n",
       "      <td>0.00134443</td>\n",
       "    </tr>\n",
       "    <tr>\n",
       "      <th>a</th>\n",
       "      <td>1.31293</td>\n",
       "      <td>0.021946</td>\n",
       "      <td>1.26616</td>\n",
       "      <td>1.30107</td>\n",
       "      <td>1.31279</td>\n",
       "      <td>1.32717</td>\n",
       "      <td>1.35556</td>\n",
       "      <td>0.00183068</td>\n",
       "    </tr>\n",
       "    <tr>\n",
       "      <th>z</th>\n",
       "      <td>0.505068</td>\n",
       "      <td>0.00635292</td>\n",
       "      <td>0.492885</td>\n",
       "      <td>0.500735</td>\n",
       "      <td>0.505374</td>\n",
       "      <td>0.509402</td>\n",
       "      <td>0.517882</td>\n",
       "      <td>0.000409162</td>\n",
       "    </tr>\n",
       "    <tr>\n",
       "      <th>t</th>\n",
       "      <td>0.283907</td>\n",
       "      <td>0.00989238</td>\n",
       "      <td>0.265362</td>\n",
       "      <td>0.277103</td>\n",
       "      <td>0.283997</td>\n",
       "      <td>0.289941</td>\n",
       "      <td>0.305191</td>\n",
       "      <td>0.000713339</td>\n",
       "    </tr>\n",
       "    <tr>\n",
       "      <th>theta</th>\n",
       "      <td>0.243184</td>\n",
       "      <td>0.0133972</td>\n",
       "      <td>0.214958</td>\n",
       "      <td>0.234725</td>\n",
       "      <td>0.24406</td>\n",
       "      <td>0.25226</td>\n",
       "      <td>0.26774</td>\n",
       "      <td>0.00105938</td>\n",
       "    </tr>\n",
       "  </tbody>\n",
       "</table>\n",
       "</div>"
      ],
      "text/plain": [
       "           mean         std      2.5q       25q       50q       75q     97.5q  \\\n",
       "v      0.367973   0.0224734    0.3238  0.353135  0.367793  0.383425  0.413111   \n",
       "a       1.31293    0.021946   1.26616   1.30107   1.31279   1.32717   1.35556   \n",
       "z      0.505068  0.00635292  0.492885  0.500735  0.505374  0.509402  0.517882   \n",
       "t      0.283907  0.00989238  0.265362  0.277103  0.283997  0.289941  0.305191   \n",
       "theta  0.243184   0.0133972  0.214958  0.234725   0.24406   0.25226   0.26774   \n",
       "\n",
       "            mc err  \n",
       "v       0.00134443  \n",
       "a       0.00183068  \n",
       "z      0.000409162  \n",
       "t      0.000713339  \n",
       "theta   0.00105938  "
      ]
     },
     "execution_count": 9,
     "metadata": {},
     "output_type": "execute_result"
    }
   ],
   "source": [
    "model_.gen_stats()"
   ]
  },
  {
   "cell_type": "markdown",
   "id": "5f0f9774",
   "metadata": {},
   "source": [
    "## Try `full_ddm`"
   ]
  },
  {
   "cell_type": "code",
   "execution_count": 10,
   "id": "c40ca221",
   "metadata": {},
   "outputs": [],
   "source": [
    "model = 'full_ddm'"
   ]
  },
  {
   "cell_type": "code",
   "execution_count": 11,
   "id": "cf6e88aa",
   "metadata": {
    "scrolled": true
   },
   "outputs": [
    {
     "data": {
      "text/plain": [
       "{'params': ['v', 'a', 'z', 't', 'sz', 'sv', 'st'],\n",
       " 'params_trans': [0, 0, 1, 0, 0, 0, 0],\n",
       " 'params_std_upper': [1.5, 1.0, None, 1.0, 0.1, 0.5, 0.1],\n",
       " 'param_bounds': [[-3.0, 0.3, 0.3, 0.25, 0.001, 0.001, 0.001],\n",
       "  [3.0, 2.5, 0.7, 2.25, 0.2, 2.0, 0.25]],\n",
       " 'param_bounds_cnn': [[-2.5, 0.2, 0.1, 0.25, 0.0, 0.0, 0.0],\n",
       "  [2.5, 2.0, 0.9, 2.5, 0.4, 1.0, 0.5]],\n",
       " 'boundary': <function hddm.simulators.boundary_functions.constant(t=0)>,\n",
       " 'n_params': 7,\n",
       " 'default_params': [0.0, 1.0, 0.5, 0.25, 0.001, 0.001, 0.001],\n",
       " 'hddm_include': ['z', 'st', 'sv', 'sz'],\n",
       " 'n_choices': 2,\n",
       " 'choices': [-1, 1],\n",
       " 'slice_widths': {'v': 1.5,\n",
       "  'v_std': 1,\n",
       "  'a': 1,\n",
       "  'a_std': 1,\n",
       "  'z': 0.1,\n",
       "  'z_trans': 0.2,\n",
       "  't': 0.01,\n",
       "  't_std': 0.15,\n",
       "  'sz': 1.1,\n",
       "  'st': 0.1,\n",
       "  'sv': 0.5}}"
      ]
     },
     "execution_count": 11,
     "metadata": {},
     "output_type": "execute_result"
    }
   ],
   "source": [
    "hddm.model_config.model_config[model]"
   ]
  },
  {
   "cell_type": "code",
   "execution_count": 12,
   "id": "d0f6522b",
   "metadata": {},
   "outputs": [],
   "source": [
    "from hddm.torch.mlp_inference_class import load_torch_mlp"
   ]
  },
  {
   "cell_type": "code",
   "execution_count": 13,
   "id": "a16129d3",
   "metadata": {
    "scrolled": true
   },
   "outputs": [
    {
     "ename": "KeyError",
     "evalue": "'full_ddm'",
     "output_type": "error",
     "traceback": [
      "\u001b[0;31m---------------------------------------------------------------------------\u001b[0m",
      "\u001b[0;31mKeyError\u001b[0m                                  Traceback (most recent call last)",
      "\u001b[0;32m<ipython-input-13-a5cdde3d374b>\u001b[0m in \u001b[0;36m<module>\u001b[0;34m\u001b[0m\n\u001b[0;32m----> 1\u001b[0;31m \u001b[0mnetwork\u001b[0m \u001b[0;34m=\u001b[0m \u001b[0mload_torch_mlp\u001b[0m\u001b[0;34m(\u001b[0m\u001b[0mmodel\u001b[0m\u001b[0;34m=\u001b[0m\u001b[0mmodel\u001b[0m\u001b[0;34m)\u001b[0m\u001b[0;34m\u001b[0m\u001b[0;34m\u001b[0m\u001b[0m\n\u001b[0m",
      "\u001b[0;32m/opt/conda/lib/python3.8/site-packages/hddm/torch/mlp_inference_class.py\u001b[0m in \u001b[0;36mload_torch_mlp\u001b[0;34m(model)\u001b[0m\n\u001b[1;32m     36\u001b[0m \u001b[0;34m\u001b[0m\u001b[0m\n\u001b[1;32m     37\u001b[0m     \u001b[0;32mdef\u001b[0m \u001b[0mload_torch_mlp\u001b[0m\u001b[0;34m(\u001b[0m\u001b[0mmodel\u001b[0m\u001b[0;34m=\u001b[0m\u001b[0;32mNone\u001b[0m\u001b[0;34m)\u001b[0m\u001b[0;34m:\u001b[0m\u001b[0;34m\u001b[0m\u001b[0;34m\u001b[0m\u001b[0m\n\u001b[0;32m---> 38\u001b[0;31m         \u001b[0mcfg\u001b[0m \u001b[0;34m=\u001b[0m \u001b[0mTorchConfig\u001b[0m\u001b[0;34m(\u001b[0m\u001b[0mmodel\u001b[0m\u001b[0;34m=\u001b[0m\u001b[0mmodel\u001b[0m\u001b[0;34m)\u001b[0m\u001b[0;34m\u001b[0m\u001b[0;34m\u001b[0m\u001b[0m\n\u001b[0m\u001b[1;32m     39\u001b[0m         infer_model = LoadTorchMLPInfer(\n\u001b[1;32m     40\u001b[0m             \u001b[0mmodel_file_path\u001b[0m\u001b[0;34m=\u001b[0m\u001b[0mcfg\u001b[0m\u001b[0;34m.\u001b[0m\u001b[0mnetwork_path\u001b[0m\u001b[0;34m,\u001b[0m\u001b[0;34m\u001b[0m\u001b[0;34m\u001b[0m\u001b[0m\n",
      "\u001b[0;32m/opt/conda/lib/python3.8/site-packages/hddm/torch/torch_config.py\u001b[0m in \u001b[0;36m__init__\u001b[0;34m(self, model)\u001b[0m\n\u001b[1;32m     50\u001b[0m \u001b[0;34m\u001b[0m\u001b[0m\n\u001b[1;32m     51\u001b[0m         self.network_config = self.get_network_config(\n\u001b[0;32m---> 52\u001b[0;31m             \u001b[0mfile_name\u001b[0m\u001b[0;34m=\u001b[0m\u001b[0mself\u001b[0m\u001b[0;34m.\u001b[0m\u001b[0mnetwork_config_files\u001b[0m\u001b[0;34m[\u001b[0m\u001b[0mmodel\u001b[0m\u001b[0;34m]\u001b[0m\u001b[0;34m\u001b[0m\u001b[0;34m\u001b[0m\u001b[0m\n\u001b[0m\u001b[1;32m     53\u001b[0m         )\n\u001b[1;32m     54\u001b[0m         self.network_path = os.path.join(\n",
      "\u001b[0;31mKeyError\u001b[0m: 'full_ddm'"
     ]
    }
   ],
   "source": [
    "network = load_torch_mlp(model=model)"
   ]
  },
  {
   "cell_type": "code",
   "execution_count": 14,
   "id": "19d7bcec",
   "metadata": {},
   "outputs": [],
   "source": [
    "from hddm.torch.torch_config import TorchConfig"
   ]
  },
  {
   "cell_type": "code",
   "execution_count": 15,
   "id": "96acc66d",
   "metadata": {},
   "outputs": [],
   "source": [
    "cfg = TorchConfig(model=\"angle\")    # This is correct"
   ]
  },
  {
   "cell_type": "code",
   "execution_count": 16,
   "id": "bdb6251b",
   "metadata": {},
   "outputs": [
    {
     "ename": "KeyError",
     "evalue": "'full_ddm'",
     "output_type": "error",
     "traceback": [
      "\u001b[0;31m---------------------------------------------------------------------------\u001b[0m",
      "\u001b[0;31mKeyError\u001b[0m                                  Traceback (most recent call last)",
      "\u001b[0;32m<ipython-input-16-f4cc607156c4>\u001b[0m in \u001b[0;36m<module>\u001b[0;34m\u001b[0m\n\u001b[0;32m----> 1\u001b[0;31m \u001b[0mcfg\u001b[0m \u001b[0;34m=\u001b[0m \u001b[0mTorchConfig\u001b[0m\u001b[0;34m(\u001b[0m\u001b[0mmodel\u001b[0m\u001b[0;34m=\u001b[0m\u001b[0;34m'full_ddm'\u001b[0m\u001b[0;34m)\u001b[0m \u001b[0;31m# this command can not run.\u001b[0m\u001b[0;34m\u001b[0m\u001b[0;34m\u001b[0m\u001b[0m\n\u001b[0m",
      "\u001b[0;32m/opt/conda/lib/python3.8/site-packages/hddm/torch/torch_config.py\u001b[0m in \u001b[0;36m__init__\u001b[0;34m(self, model)\u001b[0m\n\u001b[1;32m     50\u001b[0m \u001b[0;34m\u001b[0m\u001b[0m\n\u001b[1;32m     51\u001b[0m         self.network_config = self.get_network_config(\n\u001b[0;32m---> 52\u001b[0;31m             \u001b[0mfile_name\u001b[0m\u001b[0;34m=\u001b[0m\u001b[0mself\u001b[0m\u001b[0;34m.\u001b[0m\u001b[0mnetwork_config_files\u001b[0m\u001b[0;34m[\u001b[0m\u001b[0mmodel\u001b[0m\u001b[0;34m]\u001b[0m\u001b[0;34m\u001b[0m\u001b[0;34m\u001b[0m\u001b[0m\n\u001b[0m\u001b[1;32m     53\u001b[0m         )\n\u001b[1;32m     54\u001b[0m         self.network_path = os.path.join(\n",
      "\u001b[0;31mKeyError\u001b[0m: 'full_ddm'"
     ]
    }
   ],
   "source": [
    "cfg = TorchConfig(model='full_ddm') # this command can not run."
   ]
  },
  {
   "cell_type": "code",
   "execution_count": 17,
   "id": "37e63235",
   "metadata": {},
   "outputs": [
    {
     "name": "stdout",
     "output_type": "stream",
     "text": [
      "Setting priors uninformative (LANs only work with uninformative priors for now)\n",
      "Couldn't find load_torch_mlp()... pytorch not installed?\n"
     ]
    }
   ],
   "source": [
    "model_ = hddm.HDDMnn(cavanagh_data,\n",
    "                     model = model,\n",
    "                     include = hddm.model_config.model_config[model]['hddm_include'],\n",
    "                     is_group_model = False)"
   ]
  }
 ],
 "metadata": {
  "kernelspec": {
   "display_name": "Python 3",
   "language": "python",
   "name": "python3"
  },
  "language_info": {
   "codemirror_mode": {
    "name": "ipython",
    "version": 3
   },
   "file_extension": ".py",
   "mimetype": "text/x-python",
   "name": "python",
   "nbconvert_exporter": "python",
   "pygments_lexer": "ipython3",
   "version": "3.8.8"
  }
 },
 "nbformat": 4,
 "nbformat_minor": 5
}
