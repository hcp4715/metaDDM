{
 "cells": [
  {
   "cell_type": "code",
   "execution_count": 1,
   "id": "c37ba0b2",
   "metadata": {},
   "outputs": [
    {
     "name": "stdout",
     "output_type": "stream",
     "text": [
      "PyTorch's version is  1.7.0\n"
     ]
    }
   ],
   "source": [
    "import hddm\n",
    "\n",
    "import torch\n",
    "print(\"PyTorch's version is \", torch.__version__)"
   ]
  },
  {
   "cell_type": "code",
   "execution_count": 2,
   "id": "051252ac",
   "metadata": {},
   "outputs": [
    {
     "data": {
      "text/plain": [
       "'/opt/conda/lib/python3.8/site-packages/hddm'"
      ]
     },
     "execution_count": 2,
     "metadata": {},
     "output_type": "execute_result"
    }
   ],
   "source": [
    "hddm.__path__[0]"
   ]
  },
  {
   "cell_type": "code",
   "execution_count": 3,
   "id": "16322cae",
   "metadata": {},
   "outputs": [],
   "source": [
    "# test the PyTorch modules\n",
    "import torch\n",
    "import torch.nn as nn\n",
    "import uuid"
   ]
  },
  {
   "cell_type": "code",
   "execution_count": 4,
   "id": "033f6e1c",
   "metadata": {
    "scrolled": true
   },
   "outputs": [
    {
     "data": {
      "text/plain": [
       "['test',\n",
       " 'ddm',\n",
       " 'ddm_vanilla',\n",
       " 'angle',\n",
       " 'weibull',\n",
       " 'levy',\n",
       " 'full_ddm',\n",
       " 'full_ddm_vanilla',\n",
       " 'ornstein',\n",
       " 'ddm_sdv',\n",
       " 'ddm_par2',\n",
       " 'ddm_par2_no_bias',\n",
       " 'ddm_par2_angle_no_bias',\n",
       " 'ddm_par2_weibull_no_bias',\n",
       " 'ddm_seq2',\n",
       " 'ddm_seq2_no_bias',\n",
       " 'ddm_seq2_angle_no_bias',\n",
       " 'ddm_seq2_weibull_no_bias',\n",
       " 'ddm_mic2_adj',\n",
       " 'ddm_mic2_adj_no_bias',\n",
       " 'ddm_mic2_adj_angle_no_bias',\n",
       " 'ddm_mic2_adj_weibull_no_bias',\n",
       " 'race_no_bias_3',\n",
       " 'race_no_bias_angle_3',\n",
       " 'race_no_bias_4',\n",
       " 'race_no_bias_angle_4',\n",
       " 'lca_no_bias_3',\n",
       " 'lca_no_bias_angle_3',\n",
       " 'lca_no_bias_4',\n",
       " 'lca_no_bias_angle_4',\n",
       " 'weibull_cdf',\n",
       " 'full_ddm2']"
      ]
     },
     "execution_count": 4,
     "metadata": {},
     "output_type": "execute_result"
    }
   ],
   "source": [
    "# List all available models\n",
    "list(hddm.model_config.model_config.keys())"
   ]
  },
  {
   "cell_type": "markdown",
   "id": "f1adacc4",
   "metadata": {},
   "source": [
    "## Try the short example\n",
    "\n",
    "https://hddm.readthedocs.io/en/latest/lan_new_classes.html"
   ]
  },
  {
   "cell_type": "code",
   "execution_count": 5,
   "id": "3227517f",
   "metadata": {},
   "outputs": [
    {
     "name": "stdout",
     "output_type": "stream",
     "text": [
      "Setting priors uninformative (LANs only work with uninformative priors for now)\n",
      "Includes supplied:  ['z', 'theta']\n"
     ]
    }
   ],
   "source": [
    "model = 'angle'\n",
    "cavanagh_data = hddm.load_csv(hddm.__path__[0] + '/examples/cavanagh_theta_nn.csv')\n",
    "model_ = hddm.HDDMnn(cavanagh_data,\n",
    "                     model = model,\n",
    "                     include = hddm.model_config.model_config[model]['hddm_include'],\n",
    "                     is_group_model = False)"
   ]
  },
  {
   "cell_type": "code",
   "execution_count": 6,
   "id": "9e921b6e",
   "metadata": {},
   "outputs": [
    {
     "data": {
      "text/plain": [
       "['z', 'theta']"
      ]
     },
     "execution_count": 6,
     "metadata": {},
     "output_type": "execute_result"
    }
   ],
   "source": [
    "hddm.model_config.model_config[model]['hddm_include']"
   ]
  },
  {
   "cell_type": "code",
   "execution_count": 7,
   "id": "f25d9620",
   "metadata": {},
   "outputs": [
    {
     "name": "stdout",
     "output_type": "stream",
     "text": [
      " [-----------------100%-----------------] 1001 of 1000 complete in 29.5 sec"
     ]
    },
    {
     "data": {
      "text/plain": [
       "<pymc.MCMC.MCMC at 0x7f4bb5fa0bb0>"
      ]
     },
     "execution_count": 7,
     "metadata": {},
     "output_type": "execute_result"
    }
   ],
   "source": [
    "model_.sample(1000, burn = 200)"
   ]
  },
  {
   "cell_type": "code",
   "execution_count": 8,
   "id": "30ecb075",
   "metadata": {
    "scrolled": true
   },
   "outputs": [
    {
     "data": {
      "text/html": [
       "<div>\n",
       "<style scoped>\n",
       "    .dataframe tbody tr th:only-of-type {\n",
       "        vertical-align: middle;\n",
       "    }\n",
       "\n",
       "    .dataframe tbody tr th {\n",
       "        vertical-align: top;\n",
       "    }\n",
       "\n",
       "    .dataframe thead th {\n",
       "        text-align: right;\n",
       "    }\n",
       "</style>\n",
       "<table border=\"1\" class=\"dataframe\">\n",
       "  <thead>\n",
       "    <tr style=\"text-align: right;\">\n",
       "      <th></th>\n",
       "      <th>v</th>\n",
       "      <th>a</th>\n",
       "      <th>z_trans</th>\n",
       "      <th>t</th>\n",
       "      <th>theta</th>\n",
       "    </tr>\n",
       "  </thead>\n",
       "  <tbody>\n",
       "    <tr>\n",
       "      <th>0</th>\n",
       "      <td>0.380777</td>\n",
       "      <td>1.334449</td>\n",
       "      <td>0.020987</td>\n",
       "      <td>0.270959</td>\n",
       "      <td>0.252253</td>\n",
       "    </tr>\n",
       "    <tr>\n",
       "      <th>1</th>\n",
       "      <td>0.387782</td>\n",
       "      <td>1.319195</td>\n",
       "      <td>-0.009580</td>\n",
       "      <td>0.277609</td>\n",
       "      <td>0.239410</td>\n",
       "    </tr>\n",
       "    <tr>\n",
       "      <th>2</th>\n",
       "      <td>0.365673</td>\n",
       "      <td>1.310398</td>\n",
       "      <td>-0.000773</td>\n",
       "      <td>0.280250</td>\n",
       "      <td>0.249452</td>\n",
       "    </tr>\n",
       "    <tr>\n",
       "      <th>3</th>\n",
       "      <td>0.350949</td>\n",
       "      <td>1.332280</td>\n",
       "      <td>0.060732</td>\n",
       "      <td>0.276733</td>\n",
       "      <td>0.251717</td>\n",
       "    </tr>\n",
       "    <tr>\n",
       "      <th>4</th>\n",
       "      <td>0.406755</td>\n",
       "      <td>1.322996</td>\n",
       "      <td>0.030549</td>\n",
       "      <td>0.278062</td>\n",
       "      <td>0.241687</td>\n",
       "    </tr>\n",
       "    <tr>\n",
       "      <th>...</th>\n",
       "      <td>...</td>\n",
       "      <td>...</td>\n",
       "      <td>...</td>\n",
       "      <td>...</td>\n",
       "      <td>...</td>\n",
       "    </tr>\n",
       "    <tr>\n",
       "      <th>795</th>\n",
       "      <td>0.307088</td>\n",
       "      <td>1.232669</td>\n",
       "      <td>0.080079</td>\n",
       "      <td>0.311494</td>\n",
       "      <td>0.194642</td>\n",
       "    </tr>\n",
       "    <tr>\n",
       "      <th>796</th>\n",
       "      <td>0.343486</td>\n",
       "      <td>1.244865</td>\n",
       "      <td>0.074361</td>\n",
       "      <td>0.296837</td>\n",
       "      <td>0.189099</td>\n",
       "    </tr>\n",
       "    <tr>\n",
       "      <th>797</th>\n",
       "      <td>0.356198</td>\n",
       "      <td>1.239370</td>\n",
       "      <td>0.073651</td>\n",
       "      <td>0.303050</td>\n",
       "      <td>0.201857</td>\n",
       "    </tr>\n",
       "    <tr>\n",
       "      <th>798</th>\n",
       "      <td>0.366480</td>\n",
       "      <td>1.244570</td>\n",
       "      <td>0.075298</td>\n",
       "      <td>0.309395</td>\n",
       "      <td>0.201162</td>\n",
       "    </tr>\n",
       "    <tr>\n",
       "      <th>799</th>\n",
       "      <td>0.341375</td>\n",
       "      <td>1.252222</td>\n",
       "      <td>0.055130</td>\n",
       "      <td>0.305052</td>\n",
       "      <td>0.206471</td>\n",
       "    </tr>\n",
       "  </tbody>\n",
       "</table>\n",
       "<p>800 rows × 5 columns</p>\n",
       "</div>"
      ],
      "text/plain": [
       "            v         a   z_trans         t     theta\n",
       "0    0.380777  1.334449  0.020987  0.270959  0.252253\n",
       "1    0.387782  1.319195 -0.009580  0.277609  0.239410\n",
       "2    0.365673  1.310398 -0.000773  0.280250  0.249452\n",
       "3    0.350949  1.332280  0.060732  0.276733  0.251717\n",
       "4    0.406755  1.322996  0.030549  0.278062  0.241687\n",
       "..        ...       ...       ...       ...       ...\n",
       "795  0.307088  1.232669  0.080079  0.311494  0.194642\n",
       "796  0.343486  1.244865  0.074361  0.296837  0.189099\n",
       "797  0.356198  1.239370  0.073651  0.303050  0.201857\n",
       "798  0.366480  1.244570  0.075298  0.309395  0.201162\n",
       "799  0.341375  1.252222  0.055130  0.305052  0.206471\n",
       "\n",
       "[800 rows x 5 columns]"
      ]
     },
     "execution_count": 8,
     "metadata": {},
     "output_type": "execute_result"
    }
   ],
   "source": [
    "model_.get_traces()"
   ]
  },
  {
   "cell_type": "code",
   "execution_count": 9,
   "id": "413a2113",
   "metadata": {},
   "outputs": [
    {
     "data": {
      "text/html": [
       "<div>\n",
       "<style scoped>\n",
       "    .dataframe tbody tr th:only-of-type {\n",
       "        vertical-align: middle;\n",
       "    }\n",
       "\n",
       "    .dataframe tbody tr th {\n",
       "        vertical-align: top;\n",
       "    }\n",
       "\n",
       "    .dataframe thead th {\n",
       "        text-align: right;\n",
       "    }\n",
       "</style>\n",
       "<table border=\"1\" class=\"dataframe\">\n",
       "  <thead>\n",
       "    <tr style=\"text-align: right;\">\n",
       "      <th></th>\n",
       "      <th>mean</th>\n",
       "      <th>std</th>\n",
       "      <th>2.5q</th>\n",
       "      <th>25q</th>\n",
       "      <th>50q</th>\n",
       "      <th>75q</th>\n",
       "      <th>97.5q</th>\n",
       "      <th>mc err</th>\n",
       "    </tr>\n",
       "  </thead>\n",
       "  <tbody>\n",
       "    <tr>\n",
       "      <th>v</th>\n",
       "      <td>0.367168</td>\n",
       "      <td>0.0225608</td>\n",
       "      <td>0.326038</td>\n",
       "      <td>0.350863</td>\n",
       "      <td>0.366053</td>\n",
       "      <td>0.382922</td>\n",
       "      <td>0.41418</td>\n",
       "      <td>0.00129757</td>\n",
       "    </tr>\n",
       "    <tr>\n",
       "      <th>a</th>\n",
       "      <td>1.30969</td>\n",
       "      <td>0.0240394</td>\n",
       "      <td>1.26783</td>\n",
       "      <td>1.29297</td>\n",
       "      <td>1.30853</td>\n",
       "      <td>1.32497</td>\n",
       "      <td>1.36068</td>\n",
       "      <td>0.00207534</td>\n",
       "    </tr>\n",
       "    <tr>\n",
       "      <th>z</th>\n",
       "      <td>0.505311</td>\n",
       "      <td>0.00664394</td>\n",
       "      <td>0.49162</td>\n",
       "      <td>0.50083</td>\n",
       "      <td>0.505583</td>\n",
       "      <td>0.509958</td>\n",
       "      <td>0.51731</td>\n",
       "      <td>0.000359481</td>\n",
       "    </tr>\n",
       "    <tr>\n",
       "      <th>t</th>\n",
       "      <td>0.285212</td>\n",
       "      <td>0.010172</td>\n",
       "      <td>0.26362</td>\n",
       "      <td>0.278356</td>\n",
       "      <td>0.28537</td>\n",
       "      <td>0.292296</td>\n",
       "      <td>0.303566</td>\n",
       "      <td>0.000792915</td>\n",
       "    </tr>\n",
       "    <tr>\n",
       "      <th>theta</th>\n",
       "      <td>0.241456</td>\n",
       "      <td>0.0142572</td>\n",
       "      <td>0.214728</td>\n",
       "      <td>0.231346</td>\n",
       "      <td>0.241534</td>\n",
       "      <td>0.250808</td>\n",
       "      <td>0.270211</td>\n",
       "      <td>0.00115392</td>\n",
       "    </tr>\n",
       "  </tbody>\n",
       "</table>\n",
       "</div>"
      ],
      "text/plain": [
       "           mean         std      2.5q       25q       50q       75q     97.5q  \\\n",
       "v      0.367168   0.0225608  0.326038  0.350863  0.366053  0.382922   0.41418   \n",
       "a       1.30969   0.0240394   1.26783   1.29297   1.30853   1.32497   1.36068   \n",
       "z      0.505311  0.00664394   0.49162   0.50083  0.505583  0.509958   0.51731   \n",
       "t      0.285212    0.010172   0.26362  0.278356   0.28537  0.292296  0.303566   \n",
       "theta  0.241456   0.0142572  0.214728  0.231346  0.241534  0.250808  0.270211   \n",
       "\n",
       "            mc err  \n",
       "v       0.00129757  \n",
       "a       0.00207534  \n",
       "z      0.000359481  \n",
       "t      0.000792915  \n",
       "theta   0.00115392  "
      ]
     },
     "execution_count": 9,
     "metadata": {},
     "output_type": "execute_result"
    }
   ],
   "source": [
    "model_.gen_stats()"
   ]
  },
  {
   "cell_type": "markdown",
   "id": "5f0f9774",
   "metadata": {},
   "source": [
    "## Try `full_ddm`"
   ]
  },
  {
   "cell_type": "code",
   "execution_count": 10,
   "id": "c40ca221",
   "metadata": {},
   "outputs": [],
   "source": [
    "model = 'full_ddm'"
   ]
  },
  {
   "cell_type": "code",
   "execution_count": 11,
   "id": "cf6e88aa",
   "metadata": {
    "scrolled": true
   },
   "outputs": [
    {
     "data": {
      "text/plain": [
       "{'params': ['v', 'a', 'z', 't', 'sz', 'sv', 'st'],\n",
       " 'params_trans': [0, 0, 1, 0, 0, 0, 0],\n",
       " 'params_std_upper': [1.5, 1.0, None, 1.0, 0.1, 0.5, 0.1],\n",
       " 'param_bounds': [[-3.0, 0.3, 0.3, 0.25, 0.001, 0.001, 0.001],\n",
       "  [3.0, 2.5, 0.7, 2.25, 0.2, 2.0, 0.25]],\n",
       " 'param_bounds_cnn': [[-2.5, 0.2, 0.1, 0.25, 0.0, 0.0, 0.0],\n",
       "  [2.5, 2.0, 0.9, 2.5, 0.4, 1.0, 0.5]],\n",
       " 'boundary': <function hddm.simulators.boundary_functions.constant(t=0)>,\n",
       " 'n_params': 7,\n",
       " 'default_params': [0.0, 1.0, 0.5, 0.25, 0.001, 0.001, 0.001],\n",
       " 'hddm_include': ['z', 'st', 'sv', 'sz'],\n",
       " 'n_choices': 2,\n",
       " 'choices': [-1, 1],\n",
       " 'slice_widths': {'v': 1.5,\n",
       "  'v_std': 1,\n",
       "  'a': 1,\n",
       "  'a_std': 1,\n",
       "  'z': 0.1,\n",
       "  'z_trans': 0.2,\n",
       "  't': 0.01,\n",
       "  't_std': 0.15,\n",
       "  'sz': 1.1,\n",
       "  'st': 0.1,\n",
       "  'sv': 0.5}}"
      ]
     },
     "execution_count": 11,
     "metadata": {},
     "output_type": "execute_result"
    }
   ],
   "source": [
    "hddm.model_config.model_config[model]"
   ]
  },
  {
   "cell_type": "code",
   "execution_count": 12,
   "id": "d0f6522b",
   "metadata": {},
   "outputs": [],
   "source": [
    "from hddm.torch.mlp_inference_class import load_torch_mlp"
   ]
  },
  {
   "cell_type": "code",
   "execution_count": 13,
   "id": "a16129d3",
   "metadata": {
    "scrolled": true
   },
   "outputs": [
    {
     "ename": "KeyError",
     "evalue": "'full_ddm'",
     "output_type": "error",
     "traceback": [
      "\u001b[0;31m---------------------------------------------------------------------------\u001b[0m",
      "\u001b[0;31mKeyError\u001b[0m                                  Traceback (most recent call last)",
      "\u001b[0;32m<ipython-input-13-a5cdde3d374b>\u001b[0m in \u001b[0;36m<module>\u001b[0;34m\u001b[0m\n\u001b[0;32m----> 1\u001b[0;31m \u001b[0mnetwork\u001b[0m \u001b[0;34m=\u001b[0m \u001b[0mload_torch_mlp\u001b[0m\u001b[0;34m(\u001b[0m\u001b[0mmodel\u001b[0m\u001b[0;34m=\u001b[0m\u001b[0mmodel\u001b[0m\u001b[0;34m)\u001b[0m\u001b[0;34m\u001b[0m\u001b[0;34m\u001b[0m\u001b[0m\n\u001b[0m",
      "\u001b[0;32m/opt/conda/lib/python3.8/site-packages/hddm/torch/mlp_inference_class.py\u001b[0m in \u001b[0;36mload_torch_mlp\u001b[0;34m(model)\u001b[0m\n\u001b[1;32m     36\u001b[0m \u001b[0;34m\u001b[0m\u001b[0m\n\u001b[1;32m     37\u001b[0m     \u001b[0;32mdef\u001b[0m \u001b[0mload_torch_mlp\u001b[0m\u001b[0;34m(\u001b[0m\u001b[0mmodel\u001b[0m\u001b[0;34m=\u001b[0m\u001b[0;32mNone\u001b[0m\u001b[0;34m)\u001b[0m\u001b[0;34m:\u001b[0m\u001b[0;34m\u001b[0m\u001b[0;34m\u001b[0m\u001b[0m\n\u001b[0;32m---> 38\u001b[0;31m         \u001b[0mcfg\u001b[0m \u001b[0;34m=\u001b[0m \u001b[0mTorchConfig\u001b[0m\u001b[0;34m(\u001b[0m\u001b[0mmodel\u001b[0m\u001b[0;34m=\u001b[0m\u001b[0mmodel\u001b[0m\u001b[0;34m)\u001b[0m\u001b[0;34m\u001b[0m\u001b[0;34m\u001b[0m\u001b[0m\n\u001b[0m\u001b[1;32m     39\u001b[0m         infer_model = LoadTorchMLPInfer(\n\u001b[1;32m     40\u001b[0m             \u001b[0mmodel_file_path\u001b[0m\u001b[0;34m=\u001b[0m\u001b[0mcfg\u001b[0m\u001b[0;34m.\u001b[0m\u001b[0mnetwork_path\u001b[0m\u001b[0;34m,\u001b[0m\u001b[0;34m\u001b[0m\u001b[0;34m\u001b[0m\u001b[0m\n",
      "\u001b[0;32m/opt/conda/lib/python3.8/site-packages/hddm/torch/torch_config.py\u001b[0m in \u001b[0;36m__init__\u001b[0;34m(self, model)\u001b[0m\n\u001b[1;32m     50\u001b[0m \u001b[0;34m\u001b[0m\u001b[0m\n\u001b[1;32m     51\u001b[0m         self.network_config = self.get_network_config(\n\u001b[0;32m---> 52\u001b[0;31m             \u001b[0mfile_name\u001b[0m\u001b[0;34m=\u001b[0m\u001b[0mself\u001b[0m\u001b[0;34m.\u001b[0m\u001b[0mnetwork_config_files\u001b[0m\u001b[0;34m[\u001b[0m\u001b[0mmodel\u001b[0m\u001b[0;34m]\u001b[0m\u001b[0;34m\u001b[0m\u001b[0;34m\u001b[0m\u001b[0m\n\u001b[0m\u001b[1;32m     53\u001b[0m         )\n\u001b[1;32m     54\u001b[0m         self.network_path = os.path.join(\n",
      "\u001b[0;31mKeyError\u001b[0m: 'full_ddm'"
     ]
    }
   ],
   "source": [
    "network = load_torch_mlp(model=model)"
   ]
  },
  {
   "cell_type": "code",
   "execution_count": 14,
   "id": "19d7bcec",
   "metadata": {},
   "outputs": [],
   "source": [
    "from hddm.torch.torch_config import TorchConfig"
   ]
  },
  {
   "cell_type": "code",
   "execution_count": 15,
   "id": "96acc66d",
   "metadata": {},
   "outputs": [],
   "source": [
    "cfg = TorchConfig(model=\"angle\")    # This is correct"
   ]
  },
  {
   "cell_type": "code",
   "execution_count": 16,
   "id": "bdb6251b",
   "metadata": {},
   "outputs": [
    {
     "ename": "KeyError",
     "evalue": "'full_ddm'",
     "output_type": "error",
     "traceback": [
      "\u001b[0;31m---------------------------------------------------------------------------\u001b[0m",
      "\u001b[0;31mKeyError\u001b[0m                                  Traceback (most recent call last)",
      "\u001b[0;32m<ipython-input-16-f4cc607156c4>\u001b[0m in \u001b[0;36m<module>\u001b[0;34m\u001b[0m\n\u001b[0;32m----> 1\u001b[0;31m \u001b[0mcfg\u001b[0m \u001b[0;34m=\u001b[0m \u001b[0mTorchConfig\u001b[0m\u001b[0;34m(\u001b[0m\u001b[0mmodel\u001b[0m\u001b[0;34m=\u001b[0m\u001b[0;34m'full_ddm'\u001b[0m\u001b[0;34m)\u001b[0m \u001b[0;31m# this command can not run.\u001b[0m\u001b[0;34m\u001b[0m\u001b[0;34m\u001b[0m\u001b[0m\n\u001b[0m",
      "\u001b[0;32m/opt/conda/lib/python3.8/site-packages/hddm/torch/torch_config.py\u001b[0m in \u001b[0;36m__init__\u001b[0;34m(self, model)\u001b[0m\n\u001b[1;32m     50\u001b[0m \u001b[0;34m\u001b[0m\u001b[0m\n\u001b[1;32m     51\u001b[0m         self.network_config = self.get_network_config(\n\u001b[0;32m---> 52\u001b[0;31m             \u001b[0mfile_name\u001b[0m\u001b[0;34m=\u001b[0m\u001b[0mself\u001b[0m\u001b[0;34m.\u001b[0m\u001b[0mnetwork_config_files\u001b[0m\u001b[0;34m[\u001b[0m\u001b[0mmodel\u001b[0m\u001b[0;34m]\u001b[0m\u001b[0;34m\u001b[0m\u001b[0;34m\u001b[0m\u001b[0m\n\u001b[0m\u001b[1;32m     53\u001b[0m         )\n\u001b[1;32m     54\u001b[0m         self.network_path = os.path.join(\n",
      "\u001b[0;31mKeyError\u001b[0m: 'full_ddm'"
     ]
    }
   ],
   "source": [
    "cfg = TorchConfig(model='full_ddm') # this command can not run."
   ]
  },
  {
   "cell_type": "code",
   "execution_count": null,
   "id": "37e63235",
   "metadata": {},
   "outputs": [],
   "source": [
    "model_ = hddm.HDDMnn(cavanagh_data,\n",
    "                     model = model,\n",
    "                     include = hddm.model_config.model_config[model]['hddm_include'],\n",
    "                     is_group_model = False)"
   ]
  }
 ],
 "metadata": {
  "kernelspec": {
   "display_name": "Python 3",
   "language": "python",
   "name": "python3"
  },
  "language_info": {
   "codemirror_mode": {
    "name": "ipython",
    "version": 3
   },
   "file_extension": ".py",
   "mimetype": "text/x-python",
   "name": "python",
   "nbconvert_exporter": "python",
   "pygments_lexer": "ipython3",
   "version": "3.8.8"
  }
 },
 "nbformat": 4,
 "nbformat_minor": 5
}
