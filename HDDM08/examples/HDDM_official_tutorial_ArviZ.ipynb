{
 "cells": [
  {
   "cell_type": "markdown",
   "metadata": {},
   "source": [
    "## Convert `HDDM` model object to `ArviZ`\n",
    "\n",
    "Author: Hu Chuan-Peng (PhD)\n",
    "\n",
    "Contact: hcp4715 AT hotmail.com\n",
    "\n",
    "We will use the example from [official tutorial of HDDM](http://ski.clps.brown.edu/hddm_docs/tutorial_python.html), and tried to convert the `HDDM` object to `Arviz` `InferenceData`.\n",
    "\n",
    "So far, I haven't finished the `prior` part and the `log likelihood` part.\n",
    "\n",
    "Note: to conver the posterior predictive needs substantial amount of memory, make sure that your machine's RAM is large enough."
   ]
  },
  {
   "cell_type": "code",
   "execution_count": 1,
   "metadata": {},
   "outputs": [],
   "source": [
    "import pandas as pd\n",
    "import matplotlib.pyplot as plt"
   ]
  },
  {
   "cell_type": "code",
   "execution_count": 2,
   "metadata": {},
   "outputs": [
    {
     "name": "stdout",
     "output_type": "stream",
     "text": [
      "The current HDDM version is:  0.8.0\n"
     ]
    },
    {
     "name": "stderr",
     "output_type": "stream",
     "text": [
      "/opt/conda/lib/python3.8/site-packages/IPython/parallel.py:12: ShimWarning: The `IPython.parallel` package has been deprecated since IPython 4.0. You should import from ipyparallel instead.\n",
      "  warn(\"The `IPython.parallel` package has been deprecated since IPython 4.0. \"\n"
     ]
    }
   ],
   "source": [
    "%matplotlib inline\n",
    "import hddm\n",
    "import kabuki\n",
    "print(\"The current HDDM version is: \", hddm.__version__)\n",
    "\n",
    "# parallel processing related packages\n",
    "from p_tqdm import p_map\n",
    "from functools import partial"
   ]
  },
  {
   "cell_type": "markdown",
   "metadata": {},
   "source": [
    "## Loading data"
   ]
  },
  {
   "cell_type": "code",
   "execution_count": 3,
   "metadata": {
    "scrolled": false
   },
   "outputs": [
    {
     "name": "stdout",
     "output_type": "stream",
     "text": [
      "/opt/conda/lib/python3.8/site-packages/hddm/__init__.py\n"
     ]
    }
   ],
   "source": [
    "# find the directory of \"cavanagh_theta_nn.csv\"\n",
    "print(hddm.__file__)"
   ]
  },
  {
   "cell_type": "code",
   "execution_count": 4,
   "metadata": {
    "scrolled": false
   },
   "outputs": [
    {
     "name": "stdout",
     "output_type": "stream",
     "text": [
      "subj_idx,stim,rt,response,theta,dbs,conf\r\n",
      "0,LL,1.21,1.0,0.65627512226100004,1,HC\r\n",
      "0,WL,1.6299999999999999,1.0,-0.32788867166199998,1,LC\r\n",
      "0,WW,1.03,1.0,-0.480284512399,1,HC\r\n",
      "0,WL,2.77,1.0,1.9274273452399999,1,LC\r\n",
      "0,WW,1.1399999999999999,0.0,-0.21323572605999999,1,HC\r\n",
      "0,WL,1.1499999999999999,1.0,-0.43620365940099998,1,LC\r\n",
      "0,LL,2.0,1.0,-0.27447891439400002,1,HC\r\n",
      "0,WL,1.04,0.0,0.66695707371400004,1,LC\r\n",
      "0,WW,0.85699999999999998,1.0,0.11861689909799999,1,HC\r\n"
     ]
    }
   ],
   "source": [
    "!head /opt/conda/lib/python3.8/site-packages/hddm/examples/cavanagh_theta_nn.csv"
   ]
  },
  {
   "cell_type": "code",
   "execution_count": 5,
   "metadata": {
    "scrolled": true
   },
   "outputs": [
    {
     "data": {
      "text/html": [
       "<div>\n",
       "<style scoped>\n",
       "    .dataframe tbody tr th:only-of-type {\n",
       "        vertical-align: middle;\n",
       "    }\n",
       "\n",
       "    .dataframe tbody tr th {\n",
       "        vertical-align: top;\n",
       "    }\n",
       "\n",
       "    .dataframe thead th {\n",
       "        text-align: right;\n",
       "    }\n",
       "</style>\n",
       "<table border=\"1\" class=\"dataframe\">\n",
       "  <thead>\n",
       "    <tr style=\"text-align: right;\">\n",
       "      <th></th>\n",
       "      <th>subj_idx</th>\n",
       "      <th>stim</th>\n",
       "      <th>rt</th>\n",
       "      <th>response</th>\n",
       "      <th>theta</th>\n",
       "      <th>dbs</th>\n",
       "      <th>conf</th>\n",
       "    </tr>\n",
       "  </thead>\n",
       "  <tbody>\n",
       "    <tr>\n",
       "      <th>0</th>\n",
       "      <td>0</td>\n",
       "      <td>LL</td>\n",
       "      <td>1.21</td>\n",
       "      <td>1.0</td>\n",
       "      <td>0.656275</td>\n",
       "      <td>1</td>\n",
       "      <td>HC</td>\n",
       "    </tr>\n",
       "    <tr>\n",
       "      <th>1</th>\n",
       "      <td>0</td>\n",
       "      <td>WL</td>\n",
       "      <td>1.63</td>\n",
       "      <td>1.0</td>\n",
       "      <td>-0.327889</td>\n",
       "      <td>1</td>\n",
       "      <td>LC</td>\n",
       "    </tr>\n",
       "    <tr>\n",
       "      <th>2</th>\n",
       "      <td>0</td>\n",
       "      <td>WW</td>\n",
       "      <td>1.03</td>\n",
       "      <td>1.0</td>\n",
       "      <td>-0.480285</td>\n",
       "      <td>1</td>\n",
       "      <td>HC</td>\n",
       "    </tr>\n",
       "    <tr>\n",
       "      <th>3</th>\n",
       "      <td>0</td>\n",
       "      <td>WL</td>\n",
       "      <td>2.77</td>\n",
       "      <td>1.0</td>\n",
       "      <td>1.927427</td>\n",
       "      <td>1</td>\n",
       "      <td>LC</td>\n",
       "    </tr>\n",
       "    <tr>\n",
       "      <th>4</th>\n",
       "      <td>0</td>\n",
       "      <td>WW</td>\n",
       "      <td>1.14</td>\n",
       "      <td>0.0</td>\n",
       "      <td>-0.213236</td>\n",
       "      <td>1</td>\n",
       "      <td>HC</td>\n",
       "    </tr>\n",
       "  </tbody>\n",
       "</table>\n",
       "</div>"
      ],
      "text/plain": [
       "   subj_idx stim    rt  response     theta  dbs conf\n",
       "0         0   LL  1.21       1.0  0.656275    1   HC\n",
       "1         0   WL  1.63       1.0 -0.327889    1   LC\n",
       "2         0   WW  1.03       1.0 -0.480285    1   HC\n",
       "3         0   WL  2.77       1.0  1.927427    1   LC\n",
       "4         0   WW  1.14       0.0 -0.213236    1   HC"
      ]
     },
     "execution_count": 5,
     "metadata": {},
     "output_type": "execute_result"
    }
   ],
   "source": [
    "data = hddm.load_csv('/opt/conda/lib/python3.8/site-packages/hddm/examples/cavanagh_theta_nn.csv')\n",
    "data.head()"
   ]
  },
  {
   "cell_type": "code",
   "execution_count": 6,
   "metadata": {
    "scrolled": true
   },
   "outputs": [
    {
     "data": {
      "image/png": "[encoded data removed]",
      "text/plain": [
       "<Figure size 432x288 with 1 Axes>"
      ]
     },
     "metadata": {
      "needs_background": "light"
     },
     "output_type": "display_data"
    }
   ],
   "source": [
    "data = hddm.utils.flip_errors(data)\n",
    "\n",
    "fig = plt.figure()\n",
    "ax = fig.add_subplot(111, xlabel='RT', ylabel='count', title='RT distributions')\n",
    "for i, subj_data in data.groupby('subj_idx'):\n",
    "    subj_data.rt.hist(bins=20, histtype='step', ax=ax)\n",
    "\n",
    "# plt.savefig('hddm_demo_fig_00.pdf')"
   ]
  },
  {
   "cell_type": "markdown",
   "metadata": {},
   "source": [
    "Check number of trials of each condition for each participant."
   ]
  },
  {
   "cell_type": "markdown",
   "metadata": {},
   "source": [
    "## Fitting a hierarchical model with four chains\n",
    "\n",
    "#### Depends on stimulus\n",
    "\n",
    "The original tutorial used code like this:\n",
    "\n",
    "```\n",
    "m_stim = hddm.HDDM(data, depends_on={'v': 'stim'})\n",
    "m_stim.find_starting_values()\n",
    "m_stim.sample(2000, burn=500)\n",
    "```"
   ]
  },
  {
   "cell_type": "code",
   "execution_count": 7,
   "metadata": {},
   "outputs": [],
   "source": [
    "samples = 500 # number of samples for MCMC chain, 500 is used for quick demo \n",
    "burn = 200    # number of burn in    \n",
    "thin = 1\n",
    "chains = 4"
   ]
  },
  {
   "cell_type": "code",
   "execution_count": 8,
   "metadata": {},
   "outputs": [],
   "source": [
    "# define a model\n",
    "def model(id, data=None, samples=None, burn=None, save_name=\"cavanagh2011_m\"): \n",
    "    print('running model%i'%id);\n",
    "    import hddm\n",
    "    \n",
    "    dbname = save_name + '_chain_%i.db'%id \n",
    "    mname  = save_name + '_chain_%i'%id\n",
    "    \n",
    "    m = hddm.HDDM(data, depends_on={'v': 'stim'})\n",
    "    m.find_starting_values()\n",
    "    m.sample(samples, burn=burn, dbname=dbname, db='pickle') # save the model data\n",
    "    m.save(mname)\n",
    "    \n",
    "    return m"
   ]
  },
  {
   "cell_type": "code",
   "execution_count": 9,
   "metadata": {
    "scrolled": true
   },
   "outputs": [
    {
     "name": "stdout",
     "output_type": "stream",
     "text": [
      "running model0\n"
     ]
    },
    {
     "data": {
      "application/vnd.jupyter.widget-view+json": {
       "model_id": "80e1cae75154444ba41f3bd01746b0bc",
       "version_major": 2,
       "version_minor": 0
      },
      "text/plain": [
       "  0%|          | 0/4 [00:00<?, ?it/s]"
      ]
     },
     "metadata": {},
     "output_type": "display_data"
    },
    {
     "name": "stdout",
     "output_type": "stream",
     "text": [
      "running model1\n",
      "running model2\n",
      "running model3\n"
     ]
    },
    {
     "name": "stderr",
     "output_type": "stream",
     "text": [
      "/opt/conda/lib/python3.8/site-packages/scipy/optimize/optimize.py:2215: RuntimeWarning: invalid value encountered in double_scalars\n",
      "  tmp2 = (x - v) * (fx - fw)\n",
      "/opt/conda/lib/python3.8/site-packages/scipy/optimize/optimize.py:2215: RuntimeWarning: invalid value encountered in double_scalars\n",
      "  tmp2 = (x - v) * (fx - fw)\n",
      "/opt/conda/lib/python3.8/site-packages/scipy/optimize/optimize.py:2215: RuntimeWarning: invalid value encountered in double_scalars\n",
      "  tmp2 = (x - v) * (fx - fw)\n",
      "/opt/conda/lib/python3.8/site-packages/scipy/optimize/optimize.py:2215: RuntimeWarning: invalid value encountered in double_scalars\n",
      "  tmp2 = (x - v) * (fx - fw)\n"
     ]
    },
    {
     "name": "stdout",
     "output_type": "stream",
     "text": [
      " [                  1%                  ] 6 of 500 complete in 0.5 sec[                  1%                  ] 6 of 500 complete in 0.5 sec[                  1%                  ] 6 of 500 complete in 0.5 sec[                  1%                  ] 6 of 500 complete in 0.6 sec[                  2%                  ] 11 of 500 complete in 1.1 sec[                  2%                  ] 11 of 500 complete in 1.1 sec[                  2%                  ] 11 of 500 complete in 1.1 sec[                  2%                  ] 11 of 500 complete in 1.1 sec[-                 3%                  ] 16 of 500 complete in 1.6 sec[-                 3%                  ] 16 of 500 complete in 1.6 sec[-                 3%                  ] 16 of 500 complete in 1.6 sec[-                 3%                  ] 16 of 500 complete in 1.7 sec[-                 4%                  ] 21 of 500 complete in 2.2 sec[-                 4%                  ] 21 of 500 complete in 2.1 sec[-                 4%                  ] 21 of 500 complete in 2.2 sec[-                 4%                  ] 21 of 500 complete in 2.2 sec[-                 5%                  ] 26 of 500 complete in 2.6 sec[-                 5%                  ] 26 of 500 complete in 2.7 sec[-                 5%                  ] 26 of 500 complete in 2.7 sec[-                 5%                  ] 26 of 500 complete in 2.8 sec[--                6%                  ] 31 of 500 complete in 3.2 sec[--                6%                  ] 31 of 500 complete in 3.2 sec[--                6%                  ] 31 of 500 complete in 3.2 sec[--                6%                  ] 31 of 500 complete in 3.3 sec[--                7%                  ] 36 of 500 complete in 3.7 sec[--                7%                  ] 36 of 500 complete in 3.7 sec[--                7%                  ] 36 of 500 complete in 3.8 sec[--                7%                  ] 36 of 500 complete in 3.8 sec[---               8%                  ] 41 of 500 complete in 4.2 sec[---               8%                  ] 41 of 500 complete in 4.3 sec[---               8%                  ] 41 of 500 complete in 4.4 sec[---               8%                  ] 42 of 500 complete in 4.4 sec[---               9%                  ] 46 of 500 complete in 4.7 sec[---               9%                  ] 46 of 500 complete in 4.8 sec[---               9%                  ] 46 of 500 complete in 4.9 sec[---               9%                  ] 47 of 500 complete in 5.0 sec[---              10%                  ] 51 of 500 complete in 5.3 sec[---              10%                  ] 51 of 500 complete in 5.4 sec[---              10%                  ] 51 of 500 complete in 5.5 sec[---              10%                  ] 52 of 500 complete in 5.5 sec[----             11%                  ] 56 of 500 complete in 5.8 sec[----             11%                  ] 56 of 500 complete in 5.9 sec[----             11%                  ] 56 of 500 complete in 6.0 sec[----             11%                  ] 57 of 500 complete in 6.1 sec[----             12%                  ] 61 of 500 complete in 6.4 sec[----             12%                  ] 61 of 500 complete in 6.5 sec[----             12%                  ] 61 of 500 complete in 6.6 sec[----             12%                  ] 62 of 500 complete in 6.6 sec[-----            13%                  ] 66 of 500 complete in 6.9 sec[-----            13%                  ] 66 of 500 complete in 7.0 sec[-----            13%                  ] 66 of 500 complete in 7.1 sec[-----            13%                  ] 67 of 500 complete in 7.1 sec[-----            14%                  ] 71 of 500 complete in 7.4 sec[-----            14%                  ] 71 of 500 complete in 7.6 sec[-----            14%                  ] 71 of 500 complete in 7.7 sec[-----            14%                  ] 72 of 500 complete in 7.6 sec[-----            15%                  ] 76 of 500 complete in 7.9 sec[-----            15%                  ] 76 of 500 complete in 8.1 sec[-----            15%                  ] 76 of 500 complete in 8.2 sec[-----            15%                  ] 77 of 500 complete in 8.1 sec[------           16%                  ] 81 of 500 complete in 8.5 sec[------           16%                  ] 81 of 500 complete in 8.7 sec[------           16%                  ] 81 of 500 complete in 8.8 sec[------           16%                  ] 82 of 500 complete in 8.6 sec[------           17%                  ] 86 of 500 complete in 9.0 sec[------           17%                  ] 86 of 500 complete in 9.2 sec[------           17%                  ] 86 of 500 complete in 9.4 sec[------           17%                  ] 87 of 500 complete in 9.2 sec[------           18%                  ] 91 of 500 complete in 9.6 sec[------           18%                  ] 91 of 500 complete in 9.8 sec[------           18%                  ] 91 of 500 complete in 9.9 sec[------           18%                  ] 92 of 500 complete in 9.7 sec[-------          19%                  ] 96 of 500 complete in 10.1 sec[-------          19%                  ] 96 of 500 complete in 10.3 sec  [-------          19%                  ] 97 of 500 complete in 10.3 sec[-------          19%                  ] 96 of 500 complete in 10.4 sec[-------          20%                  ] 101 of 500 complete in 10.6 sec[-------          20%                  ] 101 of 500 complete in 10.9 sec[-------          20%                  ] 101 of 500 complete in 11.0 sec[-------          20%                  ] 102 of 500 complete in 10.8 sec[--------         21%                  ] 106 of 500 complete in 11.2 sec[--------         21%                  ] 106 of 500 complete in 11.4 sec[--------         21%                  ] 107 of 500 complete in 11.3 sec[--------         21%                  ] 106 of 500 complete in 11.5 sec[--------         22%                  ] 111 of 500 complete in 11.7 sec[--------         22%                  ] 111 of 500 complete in 11.9 sec[--------         22%                  ] 111 of 500 complete in 12.0 sec[--------         22%                  ] 112 of 500 complete in 11.9 sec[--------         23%                  ] 116 of 500 complete in 12.3 sec[--------         23%                  ] 116 of 500 complete in 12.5 sec[--------         23%                  ] 116 of 500 complete in 12.6 sec[--------         23%                  ] 117 of 500 complete in 12.4 sec[---------        24%                  ] 121 of 500 complete in 12.8 sec[---------        24%                  ] 121 of 500 complete in 13.0 sec[---------        24%                  ] 121 of 500 complete in 13.1 sec[---------        24%                  ] 122 of 500 complete in 12.9 sec[---------        25%                  ] 126 of 500 complete in 13.3 sec[---------        25%                  ] 126 of 500 complete in 13.6 sec[---------        25%                  ] 126 of 500 complete in 13.6 sec[---------        25%                  ] 127 of 500 complete in 13.5 sec[---------        26%                  ] 131 of 500 complete in 13.9 sec[---------        26%                  ] 131 of 500 complete in 14.2 sec[---------        26%                  ] 131 of 500 complete in 14.2 sec[----------       26%                  ] 132 of 500 complete in 14.0 sec[----------       27%                  ] 136 of 500 complete in 14.4 sec[----------       27%                  ] 136 of 500 complete in 14.7 sec[----------       27%                  ] 136 of 500 complete in 14.7 sec[----------       27%                  ] 137 of 500 complete in 14.6 sec[----------       28%                  ] 141 of 500 complete in 14.9 sec[----------       28%                  ] 141 of 500 complete in 15.2 sec[----------       28%                  ] 141 of 500 complete in 15.2 sec[----------       28%                  ] 142 of 500 complete in 15.1 sec[-----------      29%                  ] 146 of 500 complete in 15.4 sec[-----------      29%                  ] 146 of 500 complete in 15.8 sec[-----------      29%                  ] 146 of 500 complete in 15.8 sec[-----------      29%                  ] 147 of 500 complete in 15.7 sec"
     ]
    },
    {
     "name": "stdout",
     "output_type": "stream",
     "text": [
      " [-----------      30%                  ] 151 of 500 complete in 16.0 sec[-----------      30%                  ] 151 of 500 complete in 16.3 sec[-----------      30%                  ] 151 of 500 complete in 16.3 sec[-----------      30%                  ] 152 of 500 complete in 16.2 sec[-----------      31%                  ] 156 of 500 complete in 16.5 sec[-----------      31%                  ] 156 of 500 complete in 16.9 sec[-----------      31%                  ] 156 of 500 complete in 16.9 sec[-----------      31%                  ] 157 of 500 complete in 16.8 sec[------------     32%                  ] 161 of 500 complete in 17.1 sec[------------     32%                  ] 161 of 500 complete in 17.4 sec[------------     32%                  ] 161 of 500 complete in 17.4 sec[------------     32%                  ] 162 of 500 complete in 17.3 sec[------------     33%                  ] 166 of 500 complete in 17.6 sec[------------     33%                  ] 166 of 500 complete in 18.0 sec[------------     33%                  ] 166 of 500 complete in 17.9 sec[------------     33%                  ] 168 of 500 complete in 17.9 sec[------------     34%                  ] 171 of 500 complete in 18.1 sec[------------     34%                  ] 171 of 500 complete in 18.5 sec[------------     34%                  ] 171 of 500 complete in 18.5 sec[-------------    34%                  ] 173 of 500 complete in 18.4 sec[-------------    35%                  ] 176 of 500 complete in 18.7 sec[-------------    35%                  ] 176 of 500 complete in 19.1 sec[-------------    35%                  ] 176 of 500 complete in 19.1 sec[-------------    35%                  ] 178 of 500 complete in 18.9 sec[-------------    36%                  ] 181 of 500 complete in 19.3 sec[-------------    36%                  ] 181 of 500 complete in 19.6 sec[-------------    36%                  ] 181 of 500 complete in 19.6 sec[-------------    36%                  ] 183 of 500 complete in 19.5 sec[--------------   37%                  ] 186 of 500 complete in 19.8 sec[--------------   37%                  ] 186 of 500 complete in 20.1 sec[--------------   37%                  ] 188 of 500 complete in 20.0 sec[--------------   37%                  ] 186 of 500 complete in 20.2 sec[--------------   38%                  ] 191 of 500 complete in 20.3 sec[--------------   38%                  ] 191 of 500 complete in 20.7 sec[--------------   38%                  ] 193 of 500 complete in 20.5 sec[--------------   38%                  ] 191 of 500 complete in 20.7 sec[--------------   39%                  ] 196 of 500 complete in 20.9 sec[--------------   39%                  ] 196 of 500 complete in 21.2 sec[--------------   39%                  ] 196 of 500 complete in 21.2 sec[---------------  39%                  ] 198 of 500 complete in 21.1 sec[---------------  40%                  ] 201 of 500 complete in 21.4 sec[---------------  40%                  ] 201 of 500 complete in 21.7 sec[---------------  40%                  ] 201 of 500 complete in 21.8 sec[---------------  40%                  ] 203 of 500 complete in 21.6 sec[---------------  41%                  ] 206 of 500 complete in 21.9 sec[---------------  41%                  ] 206 of 500 complete in 22.2 sec[---------------  41%                  ] 206 of 500 complete in 22.3 sec[---------------  41%                  ] 208 of 500 complete in 22.2 sec[---------------- 42%                  ] 211 of 500 complete in 22.5 sec[---------------- 42%                  ] 211 of 500 complete in 22.8 sec[---------------- 42%                  ] 211 of 500 complete in 22.8 sec[---------------- 42%                  ] 213 of 500 complete in 22.7 sec[---------------- 43%                  ] 216 of 500 complete in 23.0 sec[---------------- 43%                  ] 216 of 500 complete in 23.3 sec[---------------- 43%                  ] 216 of 500 complete in 23.4 sec[---------------- 43%                  ] 218 of 500 complete in 23.2 sec[---------------- 44%                  ] 221 of 500 complete in 23.5 sec[---------------- 44%                  ] 221 of 500 complete in 23.9 sec[---------------- 44%                  ] 223 of 500 complete in 23.8 sec[---------------- 44%                  ] 221 of 500 complete in 24.0 sec[-----------------45%                  ] 226 of 500 complete in 24.1 sec[-----------------45%                  ] 226 of 500 complete in 24.4 sec[-----------------45%                  ] 226 of 500 complete in 24.5 sec[-----------------45%                  ] 228 of 500 complete in 24.3 sec[-----------------46%                  ] 231 of 500 complete in 24.6 sec[-----------------46%                  ] 231 of 500 complete in 25.0 sec[-----------------46%                  ] 231 of 500 complete in 25.0 sec[-----------------46%                  ] 233 of 500 complete in 24.9 sec[-----------------47%                  ] 236 of 500 complete in 25.2 sec[-----------------47%                  ] 236 of 500 complete in 25.5 sec[-----------------47%                  ] 238 of 500 complete in 25.4 sec[-----------------47%                  ] 236 of 500 complete in 25.6 sec[-----------------48%                  ] 241 of 500 complete in 25.7 sec[-----------------48%                  ] 241 of 500 complete in 26.1 sec[-----------------48%                  ] 243 of 500 complete in 25.9 sec[-----------------48%                  ] 241 of 500 complete in 26.2 sec[-----------------49%                  ] 246 of 500 complete in 26.2 sec[-----------------49%                  ] 246 of 500 complete in 26.6 sec[-----------------49%                  ] 248 of 500 complete in 26.5 sec[-----------------49%                  ] 246 of 500 complete in 26.7 sec[-----------------50%                  ] 251 of 500 complete in 26.7 sec[-----------------50%                  ] 251 of 500 complete in 27.2 sec[-----------------50%                  ] 253 of 500 complete in 27.0 sec[-----------------50%                  ] 251 of 500 complete in 27.2 sec[-----------------51%                  ] 256 of 500 complete in 27.2 sec[-----------------51%                  ] 256 of 500 complete in 27.7 sec[-----------------51%                  ] 258 of 500 complete in 27.6 sec[-----------------52%                  ] 261 of 500 complete in 27.8 sec[-----------------51%                  ] 256 of 500 complete in 27.8 sec[-----------------52%                  ] 261 of 500 complete in 28.3 sec[-----------------52%                  ] 263 of 500 complete in 28.1 sec[-----------------53%                  ] 266 of 500 complete in 28.3 sec[-----------------52%                  ] 261 of 500 complete in 28.4 sec[-----------------53%                  ] 266 of 500 complete in 28.8 sec[-----------------53%                  ] 268 of 500 complete in 28.6 sec[-----------------54%                  ] 271 of 500 complete in 28.9 sec[-----------------53%                  ] 266 of 500 complete in 28.9 sec[-----------------54%                  ] 273 of 500 complete in 29.2 sec[-----------------54%                  ] 271 of 500 complete in 29.4 sec[-----------------55%                  ] 276 of 500 complete in 29.4 sec[-----------------54%                  ] 271 of 500 complete in 29.4 sec[-----------------55%-                 ] 278 of 500 complete in 29.7 sec[-----------------55%                  ] 276 of 500 complete in 29.9 sec[-----------------55%                  ] 276 of 500 complete in 30.0 sec[-----------------56%-                 ] 281 of 500 complete in 30.0 sec[-----------------56%-                 ] 283 of 500 complete in 30.2 sec[-----------------56%-                 ] 281 of 500 complete in 30.5 sec[-----------------56%-                 ] 281 of 500 complete in 30.5 sec[-----------------57%-                 ] 286 of 500 complete in 30.5 sec[-----------------57%-                 ] 288 of 500 complete in 30.8 sec[-----------------57%-                 ] 286 of 500 complete in 31.0 sec[-----------------57%-                 ] 286 of 500 complete in 31.0 sec[-----------------58%--                ] 291 of 500 complete in 31.1 sec[-----------------58%--                ] 293 of 500 complete in 31.3 sec"
     ]
    },
    {
     "name": "stdout",
     "output_type": "stream",
     "text": [
      " [-----------------58%--                ] 291 of 500 complete in 31.6 sec[-----------------58%--                ] 291 of 500 complete in 31.5 sec[-----------------59%--                ] 296 of 500 complete in 31.6 sec[-----------------59%--                ] 298 of 500 complete in 31.8 sec[-----------------59%--                ] 296 of 500 complete in 32.1 sec[-----------------59%--                ] 296 of 500 complete in 32.1 sec[-----------------60%--                ] 301 of 500 complete in 32.2 sec[-----------------60%---               ] 303 of 500 complete in 32.4 sec[-----------------60%--                ] 301 of 500 complete in 32.6 sec[-----------------60%--                ] 301 of 500 complete in 32.7 sec[-----------------61%---               ] 306 of 500 complete in 32.7 sec[-----------------61%---               ] 308 of 500 complete in 32.9 sec[-----------------61%---               ] 306 of 500 complete in 33.2 sec[-----------------61%---               ] 306 of 500 complete in 33.2 sec[-----------------62%---               ] 311 of 500 complete in 33.2 sec[-----------------62%---               ] 313 of 500 complete in 33.4 sec[-----------------62%---               ] 311 of 500 complete in 33.7 sec[-----------------62%---               ] 311 of 500 complete in 33.8 sec[-----------------63%----              ] 316 of 500 complete in 33.8 sec[-----------------63%----              ] 318 of 500 complete in 34.0 sec[-----------------63%----              ] 316 of 500 complete in 34.2 sec[-----------------64%----              ] 321 of 500 complete in 34.3 sec[-----------------63%----              ] 316 of 500 complete in 34.4 sec[-----------------64%----              ] 323 of 500 complete in 34.5 sec[-----------------64%----              ] 321 of 500 complete in 34.8 sec[-----------------65%----              ] 326 of 500 complete in 34.9 sec[-----------------64%----              ] 321 of 500 complete in 34.9 sec[-----------------65%----              ] 328 of 500 complete in 35.0 sec[-----------------65%----              ] 326 of 500 complete in 35.3 sec[-----------------66%-----             ] 331 of 500 complete in 35.4 sec[-----------------65%----              ] 326 of 500 complete in 35.5 sec[-----------------66%-----             ] 333 of 500 complete in 35.6 sec[-----------------66%-----             ] 331 of 500 complete in 35.8 sec[-----------------67%-----             ] 336 of 500 complete in 35.9 sec[-----------------66%-----             ] 331 of 500 complete in 36.0 sec[-----------------67%-----             ] 338 of 500 complete in 36.1 sec[-----------------67%-----             ] 336 of 500 complete in 36.4 sec[-----------------68%-----             ] 341 of 500 complete in 36.5 sec[-----------------67%-----             ] 336 of 500 complete in 36.6 sec[-----------------68%------            ] 343 of 500 complete in 36.7 sec[-----------------68%-----             ] 341 of 500 complete in 36.9 sec[-----------------69%------            ] 346 of 500 complete in 37.0 sec[-----------------68%-----             ] 341 of 500 complete in 37.2 sec[-----------------69%------            ] 348 of 500 complete in 37.2 sec[-----------------69%------            ] 346 of 500 complete in 37.5 sec[-----------------70%------            ] 351 of 500 complete in 37.6 sec[-----------------69%------            ] 346 of 500 complete in 37.7 sec[-----------------70%------            ] 353 of 500 complete in 37.8 sec[-----------------70%------            ] 351 of 500 complete in 38.0 sec[-----------------71%-------           ] 356 of 500 complete in 38.1 sec[-----------------70%------            ] 351 of 500 complete in 38.2 sec[-----------------71%-------           ] 358 of 500 complete in 38.3 sec[-----------------71%-------           ] 356 of 500 complete in 38.6 sec[-----------------72%-------           ] 361 of 500 complete in 38.6 sec[-----------------71%-------           ] 356 of 500 complete in 38.8 sec[-----------------72%-------           ] 363 of 500 complete in 38.8 sec[-----------------72%-------           ] 361 of 500 complete in 39.1 sec[-----------------73%-------           ] 366 of 500 complete in 39.1 sec[-----------------72%-------           ] 361 of 500 complete in 39.4 sec[-----------------73%-------           ] 368 of 500 complete in 39.4 sec[-----------------73%-------           ] 366 of 500 complete in 39.7 sec[-----------------74%--------          ] 371 of 500 complete in 39.7 sec[-----------------73%-------           ] 366 of 500 complete in 39.9 sec[-----------------74%--------          ] 373 of 500 complete in 39.9 sec[-----------------74%--------          ] 371 of 500 complete in 40.2 sec[-----------------75%--------          ] 376 of 500 complete in 40.2 sec[-----------------74%--------          ] 371 of 500 complete in 40.5 sec[-----------------75%--------          ] 378 of 500 complete in 40.5 sec[-----------------75%--------          ] 376 of 500 complete in 40.7 sec[-----------------76%--------          ] 381 of 500 complete in 40.8 sec[-----------------75%--------          ] 376 of 500 complete in 41.0 sec[-----------------76%---------         ] 383 of 500 complete in 41.1 sec[-----------------76%--------          ] 381 of 500 complete in 41.3 sec[-----------------77%---------         ] 386 of 500 complete in 41.3 sec[-----------------76%--------          ] 381 of 500 complete in 41.6 sec[-----------------77%---------         ] 388 of 500 complete in 41.6 sec[-----------------77%---------         ] 386 of 500 complete in 41.8 sec[-----------------78%---------         ] 391 of 500 complete in 41.9 sec[-----------------77%---------         ] 386 of 500 complete in 42.1 sec[-----------------78%---------         ] 393 of 500 complete in 42.2 sec[-----------------78%---------         ] 391 of 500 complete in 42.3 sec[-----------------79%----------        ] 396 of 500 complete in 42.4 sec[-----------------78%---------         ] 391 of 500 complete in 42.6 sec[-----------------79%----------        ] 398 of 500 complete in 42.7 sec[-----------------79%----------        ] 396 of 500 complete in 42.9 sec[-----------------80%----------        ] 401 of 500 complete in 42.9 sec[-----------------79%----------        ] 396 of 500 complete in 43.1 sec[-----------------80%----------        ] 401 of 500 complete in 43.4 sec[-----------------80%----------        ] 403 of 500 complete in 43.2 sec[-----------------81%----------        ] 406 of 500 complete in 43.5 sec[-----------------80%----------        ] 401 of 500 complete in 43.7 sec[-----------------81%-----------       ] 408 of 500 complete in 43.8 sec[-----------------81%----------        ] 406 of 500 complete in 43.9 sec[-----------------82%-----------       ] 411 of 500 complete in 44.0 sec[-----------------81%----------        ] 406 of 500 complete in 44.3 sec[-----------------82%-----------       ] 413 of 500 complete in 44.3 sec[-----------------82%-----------       ] 411 of 500 complete in 44.5 sec[-----------------83%-----------       ] 416 of 500 complete in 44.6 sec[-----------------82%-----------       ] 411 of 500 complete in 44.8 sec[-----------------83%-----------       ] 418 of 500 complete in 44.8 sec[-----------------83%-----------       ] 416 of 500 complete in 45.0 sec[-----------------84%-----------       ] 421 of 500 complete in 45.1 sec[-----------------83%-----------       ] 416 of 500 complete in 45.4 sec[-----------------84%------------      ] 423 of 500 complete in 45.3 sec[-----------------84%-----------       ] 421 of 500 complete in 45.5 sec[-----------------85%------------      ] 426 of 500 complete in 45.7 sec[-----------------84%-----------       ] 421 of 500 complete in 45.9 sec[-----------------85%------------      ] 428 of 500 complete in 45.9 sec[-----------------85%------------      ] 426 of 500 complete in 46.1 sec[-----------------86%------------      ] 431 of 500 complete in 46.2 sec[-----------------85%------------      ] 426 of 500 complete in 46.5 sec[-----------------86%------------      ] 433 of 500 complete in 46.4 sec[-----------------86%------------      ] 431 of 500 complete in 46.6 sec[-----------------87%-------------     ] 436 of 500 complete in 46.7 sec"
     ]
    },
    {
     "name": "stdout",
     "output_type": "stream",
     "text": [
      "[-----------------100%-----------------] 501 of 500 complete in 54.6 secc[-----------------87%-------------     ] 438 of 500 complete in 47.0 sec[-----------------87%-------------     ] 436 of 500 complete in 47.1 sec[-----------------88%-------------     ] 441 of 500 complete in 47.3 sec[-----------------87%-------------     ] 436 of 500 complete in 47.6 sec[-----------------88%-------------     ] 443 of 500 complete in 47.5 sec[-----------------88%-------------     ] 441 of 500 complete in 47.7 sec[-----------------89%-------------     ] 446 of 500 complete in 47.8 sec[-----------------88%-------------     ] 441 of 500 complete in 48.2 sec[-----------------89%--------------    ] 448 of 500 complete in 48.0 sec[-----------------89%-------------     ] 446 of 500 complete in 48.2 sec[-----------------90%--------------    ] 451 of 500 complete in 48.4 sec[-----------------89%-------------     ] 446 of 500 complete in 48.7 sec  [-----------------90%--------------    ] 453 of 500 complete in 48.6 sec[-----------------90%--------------    ] 451 of 500 complete in 48.7 sec[-----------------91%--------------    ] 456 of 500 complete in 48.9 sec[-----------------90%--------------    ] 451 of 500 complete in 49.3 sec[-----------------91%--------------    ] 456 of 500 complete in 49.3 sec[-----------------91%--------------    ] 458 of 500 complete in 49.2 sec[-----------------92%---------------   ] 461 of 500 complete in 49.5 sec[-----------------91%--------------    ] 456 of 500 complete in 49.8 sec[-----------------92%---------------   ] 461 of 500 complete in 49.8 sec[-----------------92%---------------   ] 463 of 500 complete in 49.7 sec[-----------------93%---------------   ] 466 of 500 complete in 50.0 sec[-----------------92%---------------   ] 461 of 500 complete in 50.3 sec[-----------------93%---------------   ] 466 of 500 complete in 50.4 sec[-----------------93%---------------   ] 468 of 500 complete in 50.3 sec[-----------------94%---------------   ] 471 of 500 complete in 50.6 sec[-----------------93%---------------   ] 466 of 500 complete in 50.8 sec[-----------------94%---------------   ] 471 of 500 complete in 50.9 sec[-----------------94%---------------   ] 473 of 500 complete in 50.9 sec[-----------------95%----------------  ] 476 of 500 complete in 51.1 sec[-----------------94%---------------   ] 471 of 500 complete in 51.4 sec[-----------------95%----------------  ] 476 of 500 complete in 51.4 sec[-----------------95%----------------  ] 478 of 500 complete in 51.4 sec[-----------------96%----------------  ] 481 of 500 complete in 51.6 sec[-----------------95%----------------  ] 476 of 500 complete in 51.9 sec[-----------------96%----------------  ] 481 of 500 complete in 51.9 sec[-----------------97%----------------  ] 486 of 500 complete in 52.1 sec[-----------------96%----------------  ] 483 of 500 complete in 52.0 sec[-----------------96%----------------  ] 481 of 500 complete in 52.4 sec[-----------------97%----------------  ] 486 of 500 complete in 52.4 sec[-----------------98%----------------- ] 491 of 500 complete in 52.6 sec[-----------------97%----------------- ] 488 of 500 complete in 52.5 sec[-----------------97%----------------  ] 486 of 500 complete in 53.0 sec[-----------------98%----------------- ] 491 of 500 complete in 53.0 sec[-----------------99%----------------- ] 496 of 500 complete in 53.2 sec[-----------------98%----------------- ] 493 of 500 complete in 53.1 sec[-----------------98%----------------- ] 491 of 500 complete in 53.5 sec[-----------------99%----------------- ] 496 of 500 complete in 53.5 sec[-----------------100%-----------------] 501 of 500 complete in 53.7 sec[-----------------99%----------------- ] 498 of 500 complete in 53.6 sec[-----------------99%----------------- ] 496 of 500 complete in 54.1 sec[-----------------100%-----------------] 501 of 500 complete in 54.1 sec[-----------------100%-----------------] 500 of 500 complete in 53.9 sec "
     ]
    }
   ],
   "source": [
    "models = p_map(partial(model, data=data, samples=samples, burn=burn),\n",
    "               range(chains)) # progess bar is a mess ;("
   ]
  },
  {
   "cell_type": "code",
   "execution_count": 10,
   "metadata": {},
   "outputs": [],
   "source": [
    "# Uncomment the code below if you already stored the model objects:\n",
    "# m_stim_list = []\n",
    "# exp_name = 'cavanagh2011'\n",
    "# model_tag = 'm'\n",
    "# for i in range(4):\n",
    "#     mname  = '/home/jovyan/example/df_' + exp_name + '_' + model_tag + '_chain_%i'%i \n",
    "#     print(mname)\n",
    "#     m = hddm.load(mname)\n",
    "#     m_stim_list.append(m)"
   ]
  },
  {
   "cell_type": "markdown",
   "metadata": {},
   "source": [
    "#### prepare the posterior predictive\n",
    "\n",
    "Need to be parallalized in the future.\n",
    "\n",
    "* Note 1: the number of sample is consistent with posterior\n",
    "* Note 2: this part eats a lot of memory, keep the number of sample small at beginning."
   ]
  },
  {
   "cell_type": "code",
   "execution_count": 11,
   "metadata": {
    "scrolled": true
   },
   "outputs": [
    {
     "name": "stdout",
     "output_type": "stream",
     "text": [
      " [------------------107%------------------] 45 of 42 complete in 508.4 sec\n",
      "chain 0 (3988000, 6)\n",
      " [---               9%                  ] 4 of 42 complete in 11.8 sec"
     ]
    },
    {
     "ename": "KeyboardInterrupt",
     "evalue": "",
     "output_type": "error",
     "traceback": [
      "\u001b[0;31m---------------------------------------------------------------------------\u001b[0m",
      "\u001b[0;31mKeyboardInterrupt\u001b[0m                         Traceback (most recent call last)",
      "\u001b[0;32m<ipython-input-11-1f7794920325>\u001b[0m in \u001b[0;36m<module>\u001b[0;34m\u001b[0m\n\u001b[1;32m      2\u001b[0m \u001b[0;32mfor\u001b[0m \u001b[0mi\u001b[0m \u001b[0;32min\u001b[0m \u001b[0mrange\u001b[0m\u001b[0;34m(\u001b[0m\u001b[0;36m4\u001b[0m\u001b[0;34m)\u001b[0m\u001b[0;34m:\u001b[0m\u001b[0;34m\u001b[0m\u001b[0;34m\u001b[0m\u001b[0m\n\u001b[1;32m      3\u001b[0m     \u001b[0mm\u001b[0m \u001b[0;34m=\u001b[0m \u001b[0mmodels\u001b[0m\u001b[0;34m[\u001b[0m\u001b[0mi\u001b[0m\u001b[0;34m]\u001b[0m\u001b[0;34m\u001b[0m\u001b[0;34m\u001b[0m\u001b[0m\n\u001b[0;32m----> 4\u001b[0;31m     \u001b[0mdf_post_pred\u001b[0m \u001b[0;34m=\u001b[0m \u001b[0mhddm\u001b[0m\u001b[0;34m.\u001b[0m\u001b[0mutils\u001b[0m\u001b[0;34m.\u001b[0m\u001b[0mpost_pred_gen\u001b[0m\u001b[0;34m(\u001b[0m\u001b[0mm\u001b[0m\u001b[0;34m,\u001b[0m \u001b[0msamples\u001b[0m \u001b[0;34m=\u001b[0m \u001b[0;36m1000\u001b[0m\u001b[0;34m)\u001b[0m \u001b[0;31m# number of samples can be reduced (?)\u001b[0m\u001b[0;34m\u001b[0m\u001b[0;34m\u001b[0m\u001b[0m\n\u001b[0m\u001b[1;32m      5\u001b[0m     \u001b[0mdf_post_pred\u001b[0m\u001b[0;34m.\u001b[0m\u001b[0mreset_index\u001b[0m\u001b[0;34m(\u001b[0m\u001b[0minplace\u001b[0m\u001b[0;34m=\u001b[0m\u001b[0;32mTrue\u001b[0m\u001b[0;34m)\u001b[0m\u001b[0;34m\u001b[0m\u001b[0;34m\u001b[0m\u001b[0m\n\u001b[1;32m      6\u001b[0m     \u001b[0mdf_post_pred\u001b[0m\u001b[0;34m[\u001b[0m\u001b[0;34m'chain'\u001b[0m\u001b[0;34m]\u001b[0m \u001b[0;34m=\u001b[0m \u001b[0mi\u001b[0m\u001b[0;34m\u001b[0m\u001b[0;34m\u001b[0m\u001b[0m\n",
      "\u001b[0;32m/opt/conda/lib/python3.8/site-packages/kabuki/analyze.py\u001b[0m in \u001b[0;36mpost_pred_gen\u001b[0;34m(model, groupby, samples, append_data, progress_bar)\u001b[0m\n\u001b[1;32m    339\u001b[0m         \u001b[0;31m##############################\u001b[0m\u001b[0;34m\u001b[0m\u001b[0;34m\u001b[0m\u001b[0;34m\u001b[0m\u001b[0m\n\u001b[1;32m    340\u001b[0m         \u001b[0;31m# Sample and generate stats\u001b[0m\u001b[0;34m\u001b[0m\u001b[0;34m\u001b[0m\u001b[0;34m\u001b[0m\u001b[0m\n\u001b[0;32m--> 341\u001b[0;31m         \u001b[0mdatasets\u001b[0m \u001b[0;34m=\u001b[0m \u001b[0m_post_pred_generate\u001b[0m\u001b[0;34m(\u001b[0m\u001b[0mnode\u001b[0m\u001b[0;34m,\u001b[0m \u001b[0msamples\u001b[0m\u001b[0;34m=\u001b[0m\u001b[0msamples\u001b[0m\u001b[0;34m,\u001b[0m \u001b[0mdata\u001b[0m\u001b[0;34m=\u001b[0m\u001b[0mdata\u001b[0m\u001b[0;34m,\u001b[0m \u001b[0mappend_data\u001b[0m\u001b[0;34m=\u001b[0m\u001b[0mappend_data\u001b[0m\u001b[0;34m)\u001b[0m\u001b[0;34m\u001b[0m\u001b[0;34m\u001b[0m\u001b[0m\n\u001b[0m\u001b[1;32m    342\u001b[0m         \u001b[0mresults\u001b[0m\u001b[0;34m[\u001b[0m\u001b[0mname\u001b[0m\u001b[0;34m]\u001b[0m \u001b[0;34m=\u001b[0m \u001b[0mpd\u001b[0m\u001b[0;34m.\u001b[0m\u001b[0mconcat\u001b[0m\u001b[0;34m(\u001b[0m\u001b[0mdatasets\u001b[0m\u001b[0;34m,\u001b[0m \u001b[0mnames\u001b[0m\u001b[0;34m=\u001b[0m\u001b[0;34m[\u001b[0m\u001b[0;34m'sample'\u001b[0m\u001b[0;34m]\u001b[0m\u001b[0;34m,\u001b[0m \u001b[0mkeys\u001b[0m\u001b[0;34m=\u001b[0m\u001b[0mlist\u001b[0m\u001b[0;34m(\u001b[0m\u001b[0mrange\u001b[0m\u001b[0;34m(\u001b[0m\u001b[0mlen\u001b[0m\u001b[0;34m(\u001b[0m\u001b[0mdatasets\u001b[0m\u001b[0;34m)\u001b[0m\u001b[0;34m)\u001b[0m\u001b[0;34m)\u001b[0m\u001b[0;34m)\u001b[0m\u001b[0;34m\u001b[0m\u001b[0;34m\u001b[0m\u001b[0m\n\u001b[1;32m    343\u001b[0m \u001b[0;34m\u001b[0m\u001b[0m\n",
      "\u001b[0;32m/opt/conda/lib/python3.8/site-packages/kabuki/analyze.py\u001b[0m in \u001b[0;36m_post_pred_generate\u001b[0;34m(bottom_node, samples, data, append_data)\u001b[0m\n\u001b[1;32m    278\u001b[0m         \u001b[0m_parents_to_random_posterior_sample\u001b[0m\u001b[0;34m(\u001b[0m\u001b[0mbottom_node\u001b[0m\u001b[0;34m)\u001b[0m\u001b[0;34m\u001b[0m\u001b[0;34m\u001b[0m\u001b[0m\n\u001b[1;32m    279\u001b[0m         \u001b[0;31m# Generate data from bottom node\u001b[0m\u001b[0;34m\u001b[0m\u001b[0;34m\u001b[0m\u001b[0;34m\u001b[0m\u001b[0m\n\u001b[0;32m--> 280\u001b[0;31m         \u001b[0msampled_data\u001b[0m \u001b[0;34m=\u001b[0m \u001b[0mbottom_node\u001b[0m\u001b[0;34m.\u001b[0m\u001b[0mrandom\u001b[0m\u001b[0;34m(\u001b[0m\u001b[0;34m)\u001b[0m\u001b[0;34m\u001b[0m\u001b[0;34m\u001b[0m\u001b[0m\n\u001b[0m\u001b[1;32m    281\u001b[0m         \u001b[0;32mif\u001b[0m \u001b[0mappend_data\u001b[0m \u001b[0;32mand\u001b[0m \u001b[0mdata\u001b[0m \u001b[0;32mis\u001b[0m \u001b[0;32mnot\u001b[0m \u001b[0;32mNone\u001b[0m\u001b[0;34m:\u001b[0m\u001b[0;34m\u001b[0m\u001b[0;34m\u001b[0m\u001b[0m\n\u001b[1;32m    282\u001b[0m             \u001b[0msampled_data\u001b[0m \u001b[0;34m=\u001b[0m \u001b[0msampled_data\u001b[0m\u001b[0;34m.\u001b[0m\u001b[0mjoin\u001b[0m\u001b[0;34m(\u001b[0m\u001b[0mdata\u001b[0m\u001b[0;34m.\u001b[0m\u001b[0mreset_index\u001b[0m\u001b[0;34m(\u001b[0m\u001b[0;34m)\u001b[0m\u001b[0;34m,\u001b[0m \u001b[0mlsuffix\u001b[0m\u001b[0;34m=\u001b[0m\u001b[0;34m'_sampled'\u001b[0m\u001b[0;34m)\u001b[0m\u001b[0;34m\u001b[0m\u001b[0;34m\u001b[0m\u001b[0m\n",
      "\u001b[0;32m/opt/conda/lib/python3.8/site-packages/hddm/likelihoods.py\u001b[0m in \u001b[0;36mrandom\u001b[0;34m(self)\u001b[0m\n\u001b[1;32m     75\u001b[0m     \u001b[0;31m#create random function\u001b[0m\u001b[0;34m\u001b[0m\u001b[0;34m\u001b[0m\u001b[0;34m\u001b[0m\u001b[0m\n\u001b[1;32m     76\u001b[0m     \u001b[0;32mdef\u001b[0m \u001b[0mrandom\u001b[0m\u001b[0;34m(\u001b[0m\u001b[0mself\u001b[0m\u001b[0;34m)\u001b[0m\u001b[0;34m:\u001b[0m\u001b[0;34m\u001b[0m\u001b[0;34m\u001b[0m\u001b[0m\n\u001b[0;32m---> 77\u001b[0;31m         return hddm.utils.flip_errors(hddm.generate.gen_rts(method=sampling_method,\n\u001b[0m\u001b[1;32m     78\u001b[0m                                                             \u001b[0msize\u001b[0m\u001b[0;34m=\u001b[0m\u001b[0mself\u001b[0m\u001b[0;34m.\u001b[0m\u001b[0mshape\u001b[0m\u001b[0;34m,\u001b[0m \u001b[0mdt\u001b[0m\u001b[0;34m=\u001b[0m\u001b[0msampling_dt\u001b[0m\u001b[0;34m,\u001b[0m\u001b[0;34m\u001b[0m\u001b[0;34m\u001b[0m\u001b[0m\n\u001b[1;32m     79\u001b[0m                                                             \u001b[0mrange_\u001b[0m\u001b[0;34m=\u001b[0m\u001b[0mcdf_range\u001b[0m\u001b[0;34m,\u001b[0m\u001b[0;34m\u001b[0m\u001b[0;34m\u001b[0m\u001b[0m\n",
      "\u001b[0;32m/opt/conda/lib/python3.8/site-packages/hddm/generate.py\u001b[0m in \u001b[0;36mgen_rts\u001b[0;34m(size, range_, dt, intra_sv, structured, subj_idx, method, **params)\u001b[0m\n\u001b[1;32m    189\u001b[0m         \u001b[0mrts\u001b[0m \u001b[0;34m=\u001b[0m \u001b[0m_gen_rts_from_simulated_drift\u001b[0m\u001b[0;34m(\u001b[0m\u001b[0mparams\u001b[0m\u001b[0;34m,\u001b[0m \u001b[0msize\u001b[0m\u001b[0;34m,\u001b[0m \u001b[0mdt\u001b[0m\u001b[0;34m,\u001b[0m \u001b[0mintra_sv\u001b[0m\u001b[0;34m)\u001b[0m\u001b[0;34m[\u001b[0m\u001b[0;36m0\u001b[0m\u001b[0;34m]\u001b[0m\u001b[0;34m\u001b[0m\u001b[0;34m\u001b[0m\u001b[0m\n\u001b[1;32m    190\u001b[0m     \u001b[0;32melif\u001b[0m \u001b[0mmethod\u001b[0m \u001b[0;34m==\u001b[0m \u001b[0;34m'cdf'\u001b[0m\u001b[0;34m:\u001b[0m\u001b[0;34m\u001b[0m\u001b[0;34m\u001b[0m\u001b[0m\n\u001b[0;32m--> 191\u001b[0;31m         rts = hddm.wfpt.gen_rts_from_cdf(params['v'], params['sv'], params['a'], params['z'],\n\u001b[0m\u001b[1;32m    192\u001b[0m                                          params['sz'], params[\n\u001b[1;32m    193\u001b[0m                                              't'], params['st'],\n",
      "\u001b[0;32msrc/wfpt.pyx\u001b[0m in \u001b[0;36mwfpt.gen_rts_from_cdf\u001b[0;34m()\u001b[0m\n",
      "\u001b[0;32m<__array_function__ internals>\u001b[0m in \u001b[0;36msearchsorted\u001b[0;34m(*args, **kwargs)\u001b[0m\n",
      "\u001b[0;31mKeyboardInterrupt\u001b[0m: "
     ]
    }
   ],
   "source": [
    "df_stim_post_preds = []\n",
    "for i in range(4):\n",
    "    m = models[i]\n",
    "    df_post_pred = hddm.utils.post_pred_gen(m, samples = 1000) # number of samples can be reduced (?)\n",
    "    df_post_pred.reset_index(inplace=True)\n",
    "    df_post_pred['chain'] = i\n",
    "    df_post_pred.rename(columns={'sample':'draw',\n",
    "                                 'level_2':'trial'}, inplace=True)\n",
    "    print('\\nchain', i, df_post_pred.shape)\n",
    "    df_stim_post_preds.append(df_post_pred)\n",
    "\n",
    "# delete interim variables to save memory\n",
    "del m\n",
    "del df_post_pred"
   ]
  },
  {
   "cell_type": "markdown",
   "metadata": {},
   "source": [
    "## Convert HDDM objects to ArviZ\n",
    "\n",
    "Let's try to compare `m_stim_list` and `m_reg_list` in the above models.\n",
    "\n",
    "To convert a `HDDM` object to an `ArviZ` InferenceData and use all the functionality of `ArviZ`, we need to convert the following parts (see more details about Ariviz InferenceData [here](https://arviz-devs.github.io/arviz/schema/schema.html#posterior-predictive)):\n",
    "\n",
    "* observed_data: the data on which the posterior is conditional. Each variable should have a counter part.\n",
    "\n",
    "* Posterior: Samples from the posterior distribution $p(\\theta | y)$, which is the trace from pymc.\n",
    "\n",
    "* posterior_predictive: the posterior predictive distribution evaluated at the `observed_data`. Samples should match with `posterior` ones and its variables should match `observed_data` variables. The `observed_data` counterpart variable may have a different name.\n",
    "\n",
    "* **sample_stats**: Information and diagnostics for each `posterior` sample, provided by the inference backend.\n",
    "\n",
    "* **log_likelihood**: pointwise log likelihood data. Sample shoudl match with `posteior` ones and its variables should match `observed_data` variables.\n",
    "\n",
    "* **prior**: Samples from the prior distriubtion $p(\\theta)$. Samples need not to match `posterior`. still follow the convertion on `chain` and `draw` as first dimensions.\n",
    "\n",
    "* **prior_predictive**: Samples from the `prior` predictive distribution. Samples should match `prior` samples and each variable should have a counterpart in `posterior_predictive/observed_data`.\n",
    "\n",
    "\n",
    "So far, I converted the observed data, posterior, and posterior predictive. We can use the plot function from ArviZ.\n",
    "\n",
    "For model evaluation functions of `ArviZ`, which need `log likelihood`, has been converted yet. That said, `az.loo()` and `az.waic()` is not supported yet."
   ]
  },
  {
   "cell_type": "code",
   "execution_count": null,
   "metadata": {},
   "outputs": [],
   "source": [
    "import arviz as az\n",
    "import numpy as np\n",
    "import pandas as pd\n",
    "import xarray as xr"
   ]
  },
  {
   "cell_type": "code",
   "execution_count": null,
   "metadata": {
    "scrolled": true
   },
   "outputs": [],
   "source": [
    "print(\"DIC of m_depends_on is %.5f\" % models[0].dic)"
   ]
  },
  {
   "cell_type": "markdown",
   "metadata": {},
   "source": [
    "### `observed_data`\n",
    "\n",
    "In this example data, we have 14 participants, each with three different conditions, each condition has different trial numbers."
   ]
  },
  {
   "cell_type": "code",
   "execution_count": null,
   "metadata": {
    "scrolled": true
   },
   "outputs": [],
   "source": [
    "data.groupby(['subj_idx', 'stim']).size()"
   ]
  },
  {
   "cell_type": "markdown",
   "metadata": {},
   "source": [
    "Here I created an temporary data to store the observed data and then converted it to `xarrage` data."
   ]
  },
  {
   "cell_type": "code",
   "execution_count": null,
   "metadata": {},
   "outputs": [],
   "source": [
    "data_tmp = data.copy()\n",
    "data_tmp['trial'] = data_tmp.groupby(['subj_idx', 'stim']).cumcount()\n",
    "data_tmp.drop(['theta','dbs','conf'], axis=1, inplace=True)\n",
    "data_tmp.head()"
   ]
  },
  {
   "cell_type": "code",
   "execution_count": null,
   "metadata": {
    "scrolled": true
   },
   "outputs": [],
   "source": [
    "data_tmp = data_tmp.set_index([\"subj_idx\", \"stim\", 'trial'])\n",
    "xdata_observed = xr.Dataset.from_dataframe(data_tmp)\n",
    "xdata_observed"
   ]
  },
  {
   "cell_type": "markdown",
   "metadata": {},
   "source": [
    "### `posterior`\n",
    "The `posterior` are from the traces"
   ]
  },
  {
   "cell_type": "code",
   "execution_count": null,
   "metadata": {},
   "outputs": [],
   "source": [
    "df_stim_traces = []\n",
    "for i in range(4):\n",
    "    m = models[i]\n",
    "    df_trace = m.get_traces()\n",
    "    df_trace['chain'] = i\n",
    "    df_trace['draw'] = np.arange(len(df_trace), dtype=int)\n",
    "    print('chain', i, df_trace.shape)\n",
    "    df_stim_traces.append(df_trace)\n",
    "df_stim_traces = pd.concat(df_stim_traces)\n",
    "df_stim_traces = df_stim_traces.set_index([\"chain\", \"draw\"])"
   ]
  },
  {
   "cell_type": "code",
   "execution_count": null,
   "metadata": {
    "scrolled": true
   },
   "outputs": [],
   "source": [
    "xposterior_stim = xr.Dataset.from_dataframe(df_stim_traces)\n",
    "xposterior_stim"
   ]
  },
  {
   "cell_type": "markdown",
   "metadata": {},
   "source": [
    "### `posterior_predictive`\n"
   ]
  },
  {
   "cell_type": "code",
   "execution_count": null,
   "metadata": {
    "scrolled": false
   },
   "outputs": [],
   "source": [
    "df_stim_ppc = []\n",
    "for i in range(4):\n",
    "    df_post_pred = df_stim_post_preds[i]\n",
    "    df_post_pred['chain'] = i\n",
    "    # df_post_pred['draw'] = np.arange(len(df), dtype=int)\n",
    "    # print('chain', i, df.shape)\n",
    "    df_post_pred[['stim', 'subj_idx']] = df_post_pred['node'].str.split(pat='\\.', expand=True)\n",
    "\n",
    "    # extract the stim string between \"(\" and \")\"\n",
    "\n",
    "    df_post_pred['stim'] = df_post_pred['stim'].str.extract('.*\\((.*)\\).*')\n",
    "    df_post_pred.drop('node', axis=1, inplace=True)\n",
    "    df_stim_ppc.append(df_post_pred)\n",
    "\n",
    "# df_stim_ppc = df_stim_traces.set_index([\"chain\", \"draw\"])"
   ]
  },
  {
   "cell_type": "code",
   "execution_count": null,
   "metadata": {},
   "outputs": [],
   "source": [
    "del df_post_pred"
   ]
  },
  {
   "cell_type": "code",
   "execution_count": null,
   "metadata": {},
   "outputs": [],
   "source": [
    "df_stim_ppc = pd.concat(df_stim_ppc)\n",
    "df_stim_ppc.head()"
   ]
  },
  {
   "cell_type": "code",
   "execution_count": null,
   "metadata": {
    "scrolled": true
   },
   "outputs": [],
   "source": [
    "df_stim_ppc = df_stim_ppc.set_index([\"chain\", \"draw\",'subj_idx', 'stim', 'trial'])\n",
    "xdata_post_pred = xr.Dataset.from_dataframe(df_stim_ppc) # also eat memory here\n",
    "xdata_post_pred"
   ]
  },
  {
   "cell_type": "code",
   "execution_count": null,
   "metadata": {
    "scrolled": true
   },
   "outputs": [],
   "source": [
    "InfData_stim = az.InferenceData(posterior=xposterior_stim, observed_data=xdata_observed,\n",
    "                                posterior_predictive=xdata_post_pred)\n",
    "\n",
    "InfData_stim"
   ]
  },
  {
   "cell_type": "code",
   "execution_count": null,
   "metadata": {},
   "outputs": [],
   "source": [
    "from arviz.utils import Numba\n",
    "Numba.disable_numba() # Numba has comptability issue see: https://github.com/pymc-devs/pymc/issues/4570\n",
    "Numba.numba_flag\n",
    "\n",
    "az.plot_trace(InfData_stim)"
   ]
  },
  {
   "cell_type": "code",
   "execution_count": null,
   "metadata": {},
   "outputs": [],
   "source": [
    "# plot traces\n",
    "az.plot_trace(InfData_stim, var_names=(\"^a\"), filter_vars='regex', rug=True, kind=\"rank_bars\")"
   ]
  },
  {
   "cell_type": "code",
   "execution_count": null,
   "metadata": {
    "scrolled": true
   },
   "outputs": [],
   "source": [
    "az.plot_forest(InfData_stim)"
   ]
  },
  {
   "cell_type": "code",
   "execution_count": null,
   "metadata": {
    "scrolled": true
   },
   "outputs": [],
   "source": [
    "az.hdi(InfData_stim)"
   ]
  },
  {
   "cell_type": "code",
   "execution_count": null,
   "metadata": {
    "scrolled": false
   },
   "outputs": [],
   "source": [
    "# plot ppc\n",
    "az.plot_ppc(InfData_stim)"
   ]
  },
  {
   "cell_type": "markdown",
   "metadata": {},
   "source": [
    "### Tried to draw from prior (failed)"
   ]
  },
  {
   "cell_type": "code",
   "execution_count": null,
   "metadata": {
    "scrolled": true
   },
   "outputs": [],
   "source": [
    "tmp = m_stim_list[0]\n",
    "draw_from_prior(tmp, update=False)\n",
    "# tmp.draw_from_prior(update=False)"
   ]
  },
  {
   "cell_type": "code",
   "execution_count": null,
   "metadata": {
    "scrolled": true
   },
   "outputs": [],
   "source": [
    "df_stim_priors = []\n",
    "for i in range(4):\n",
    "    df = models[i]\n",
    "    df_prior = df.draw_from_prior()\n",
    "    df_prior['chain'] = i\n",
    "    df_prior['draw'] = np.arange(len(df_prior), dtype=int)\n",
    "    print('chain', i, df_prior.shape)\n",
    "    df_priors.append(df_trace)\n",
    "df_stim_priors = pd.concat(df_stim_priors)\n",
    "df_stim_priors = df_stim_priors.set_index([\"chain\", \"draw\"])"
   ]
  }
 ],
 "metadata": {
  "kernelspec": {
   "display_name": "Python 3",
   "language": "python",
   "name": "python3"
  },
  "language_info": {
   "codemirror_mode": {
    "name": "ipython",
    "version": 3
   },
   "file_extension": ".py",
   "mimetype": "text/x-python",
   "name": "python",
   "nbconvert_exporter": "python",
   "pygments_lexer": "ipython3",
   "version": "3.8.8"
  }
 },
 "nbformat": 4,
 "nbformat_minor": 4
}
